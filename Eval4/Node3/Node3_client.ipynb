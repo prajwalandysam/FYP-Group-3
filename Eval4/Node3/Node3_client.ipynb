{
 "cells": [
  {
   "cell_type": "code",
   "execution_count": 1,
   "metadata": {},
   "outputs": [],
   "source": [
    "import requests\n",
    "import numpy as np\n",
    "import pandas as pd\n",
    "from sklearn.linear_model import LinearRegression\n",
    "from sklearn.metrics import mean_squared_error\n",
    "from datetime import datetime\n",
    "import sys\n",
    "sys.path.append(\"../src\")  # Add the parent directory to the module search path\n",
    "from Client import Client\n",
    "from Client_task import client_task\n"
   ]
  },
  {
   "cell_type": "code",
   "execution_count": 2,
   "metadata": {},
   "outputs": [],
   "source": [
    "server_urls = [\"http://127.0.0.1:8003\"]  # Server endpoint\n",
    "# server_url = \"http://127.0.0.1:8002\"  # Server endpoint\n",
    "# server_url = \"http://127.0.0.1:8003\"  # Server endpoint\n",
    "# server_url = \"http://127.0.0.1:8004\"  # Server endpoint\n",
    "\n"
   ]
  },
  {
   "cell_type": "code",
   "execution_count": 3,
   "metadata": {},
   "outputs": [
    {
     "name": "stdout",
     "output_type": "stream",
     "text": [
      "Local Data Shape: (4380, 16)\n",
      "Local Labels Shape: (4380,)\n",
      "21.1498134\n"
     ]
    }
   ],
   "source": [
    "node_file = \"../Datasets/node3.csv\"\n",
    "data = pd.read_csv(node_file)\n",
    "\n",
    "# Extract features (all columns except the 9th one)\n",
    "local_dataset = data.drop(columns=data.columns[9]).values  # Drop the 9th column for features\n",
    "\n",
    "# Extract labels (9th column)\n",
    "targetvar = data.iloc[:, 9].values  # Select the 9th column for labels\n",
    "\n",
    "client3=  Client(\n",
    "        client_id=\"Client3\", \n",
    "        local_data=local_dataset,\n",
    "        local_labels=targetvar,\n",
    "        address=\"Nagpur ,India\" \n",
    "    ) \n",
    "\n",
    "\n",
    "# Print shapes to verify\n",
    "print(f\"Local Data Shape: {client3.local_data.shape}\")\n",
    "print(f\"Local Labels Shape: {client3.local_labels.shape}\")\n",
    "print(client3.latitude)"
   ]
  },
  {
   "cell_type": "code",
   "execution_count": 4,
   "metadata": {},
   "outputs": [
    {
     "name": "stdout",
     "output_type": "stream",
     "text": [
      "{'coef_': [-1.6438745290869205e-05, 1.643874529072553e-05, -0.0028909837669374265, -0.00349862602084957, -0.004616059386134061, 0.004632498131424717, 0.0007441346246235096, -0.004700492085643788, 0.010329528503516764, 0.11881043120820887, 0.012337865625759906, 0.8583456848615869, 0.06898380790186857, 0.04553507111416698, -0.002503845660678945, 0.01404278763745826], 'intercept_': -0.003690768653020888}\n",
      "Client Client3 fetched the global model.\n",
      "Client Client3 successfully sent update to server url http://127.0.0.1:8003.\n",
      "mse is 0.013074497697649666\n",
      "aggregation done by url: http://127.0.0.1:8003\n",
      "Client Client3 received aggregated model.\n",
      "Client Client3 completed its task with MSE: 0.013074497697649666\n"
     ]
    }
   ],
   "source": [
    "client_id, mse = client_task(client3, server_urls)\n",
    "print(f\"Client {client_id} completed its task with MSE: {mse}\")"
   ]
  },
  {
   "cell_type": "code",
   "execution_count": null,
   "metadata": {},
   "outputs": [],
   "source": [
    "# server_url = \"http://127.0.0.1:8003\"  # Server endpoint\n",
    "# response = requests.get(f\"{server_url}/print-dag\")"
   ]
  },
  {
   "cell_type": "code",
   "execution_count": 7,
   "metadata": {},
   "outputs": [],
   "source": [
    "response = requests.get(\"http://127.0.0.1:8003/prune-graph\")\n",
    "# "
   ]
  },
  {
   "cell_type": "code",
   "execution_count": 8,
   "metadata": {},
   "outputs": [],
   "source": [
    "response = requests.get(\"http://127.0.0.1:8003/plot-graph\")"
   ]
  },
  {
   "cell_type": "code",
   "execution_count": null,
   "metadata": {},
   "outputs": [],
   "source": []
  }
 ],
 "metadata": {
  "kernelspec": {
   "display_name": "tfvenv",
   "language": "python",
   "name": "python3"
  },
  "language_info": {
   "codemirror_mode": {
    "name": "ipython",
    "version": 3
   },
   "file_extension": ".py",
   "mimetype": "text/x-python",
   "name": "python",
   "nbconvert_exporter": "python",
   "pygments_lexer": "ipython3",
   "version": "3.12.3"
  }
 },
 "nbformat": 4,
 "nbformat_minor": 2
}
