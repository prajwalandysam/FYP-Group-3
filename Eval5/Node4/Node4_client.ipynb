{
 "cells": [
  {
   "cell_type": "code",
   "execution_count": 1,
   "metadata": {},
   "outputs": [],
   "source": [
    "import requests\n",
    "import numpy as np\n",
    "import pandas as pd\n",
    "from sklearn.linear_model import LinearRegression\n",
    "from sklearn.metrics import mean_squared_error\n",
    "from datetime import datetime\n",
    "import sys\n",
    "sys.path.append(\"../src\")  # Add the parent directory to the module search path\n",
    "from Client import Client\n",
    "from Client_task import client_task\n"
   ]
  },
  {
   "cell_type": "code",
   "execution_count": 2,
   "metadata": {},
   "outputs": [],
   "source": [
    "# server_urls = [\"http://127.0.0.1:8004\", \"http://127.0.0.1:8001\", \"http://127.0.0.1:8002\"]\n",
    "server_urls = [\"http://127.0.0.1:8004\",\"http://127.0.0.1:8001\" ,\"http://127.0.0.1:8003\",\"http://127.0.0.1:8002\"]\n",
    "# payload = {\"urls\": server_urls}  # Corrected key\n",
    "\n",
    "# response = requests.post(\"http://127.0.0.1:8004/sync-global-model\", json=payload)  # Use `json=payload`\n",
    "\n",
    "# print(response.status_code)  # Should be 200 if successful\n",
    "# print(response.json()) "
   ]
  },
  {
   "cell_type": "code",
   "execution_count": 3,
   "metadata": {},
   "outputs": [
    {
     "name": "stdout",
     "output_type": "stream",
     "text": [
      "Local Data Shape: (4380, 16)\n",
      "Local Labels Shape: (4380,)\n",
      "21.1498134\n"
     ]
    }
   ],
   "source": [
    "node_file = \"../Datasets/node4.csv\"\n",
    "data = pd.read_csv(node_file)\n",
    "\n",
    "# Extract features (all columns except the 9th one)\n",
    "local_dataset = data.drop(columns=data.columns[9]).values  # Drop the 9th column for features\n",
    "\n",
    "# Extract labels (9th column)\n",
    "targetvar = data.iloc[:, 9].values  # Select the 9th column for labels\n",
    "\n",
    "client4=  Client(\n",
    "        client_id=\"Client4\", \n",
    "        local_data=local_dataset,\n",
    "        local_labels=targetvar,\n",
    "        address=\"Nagpur ,India\" \n",
    "    ) \n",
    "\n",
    "\n",
    "# Print shapes to verify\n",
    "print(f\"Local Data Shape: {client4.local_data.shape}\")\n",
    "print(f\"Local Labels Shape: {client4.local_labels.shape}\")\n",
    "print(client4.latitude)"
   ]
  },
  {
   "cell_type": "code",
   "execution_count": 4,
   "metadata": {},
   "outputs": [
    {
     "name": "stdout",
     "output_type": "stream",
     "text": [
      "aggregation done by url: http://127.0.0.1:8004\n",
      "Client Client4 received aggregated model.\n",
      "{'coef_': [0.0025662686335070576, -0.0025662686335070815, 0.00024563987124857103, -0.003165945225884955, -0.0103320406439166, 0.007765772010409448, -0.006387171157431144, 0.019116526883478303, -0.007242781737903399, 0.20070817580515557, -0.03301172475380904, 0.7464490598019576, 0.1367075530021851, 0.028826559881182507, -0.002466191638696029, 0.05604006225639443], 'intercept_': -0.034066755661657094}\n",
      "Client Client4 fetched the global model.\n",
      "Client Client4 successfully sent update to server url http://127.0.0.1:8004.\n",
      "mse is 0.011278711686376229\n",
      "Client Client4 successfully sent update to server url http://127.0.0.1:8001.\n",
      "mse is 0.011278711686376229\n",
      "Client Client4 successfully sent update to server url http://127.0.0.1:8003.\n",
      "mse is 0.011278711686376229\n",
      "Client Client4 successfully sent update to server url http://127.0.0.1:8002.\n",
      "mse is 0.011278711686376229\n",
      "Client Client4 completed its task with MSE: 0.011278711686376229\n"
     ]
    }
   ],
   "source": [
    "client_id, mse = client_task(client4, server_urls)\n",
    "print(f\"Client {client_id} completed its task with MSE: {mse}\")"
   ]
  },
  {
   "cell_type": "code",
   "execution_count": null,
   "metadata": {},
   "outputs": [],
   "source": [
    "# server_urls = [\"http://127.0.0.1:8001\", \"http://127.0.0.1:8002\", \"http://127.0.0.1:8003\"]\n",
    "# client4.trigger_sync(\"http://127.0.0.1:8004\", server_urls)"
   ]
  },
  {
   "cell_type": "code",
   "execution_count": null,
   "metadata": {},
   "outputs": [],
   "source": [
    "# response = requests.get(\"http://127.0.0.1:8004/prune-graph\")\n",
    "        "
   ]
  },
  {
   "cell_type": "code",
   "execution_count": null,
   "metadata": {},
   "outputs": [],
   "source": [
    "# response = requests.get(\"http://127.0.0.1:8004/plot-graph\")"
   ]
  }
 ],
 "metadata": {
  "kernelspec": {
   "display_name": "tfvenv",
   "language": "python",
   "name": "python3"
  },
  "language_info": {
   "codemirror_mode": {
    "name": "ipython",
    "version": 3
   },
   "file_extension": ".py",
   "mimetype": "text/x-python",
   "name": "python",
   "nbconvert_exporter": "python",
   "pygments_lexer": "ipython3",
   "version": "3.12.3"
  }
 },
 "nbformat": 4,
 "nbformat_minor": 2
}
