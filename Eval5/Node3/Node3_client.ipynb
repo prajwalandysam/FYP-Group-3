{
 "cells": [
  {
   "cell_type": "code",
   "execution_count": 1,
   "metadata": {},
   "outputs": [],
   "source": [
    "import requests\n",
    "import numpy as np\n",
    "import pandas as pd\n",
    "from sklearn.linear_model import LinearRegression\n",
    "from sklearn.metrics import mean_squared_error\n",
    "from datetime import datetime\n",
    "import sys\n",
    "sys.path.append(\"../src\")  # Add the parent directory to the module search path\n",
    "from Client import Client\n",
    "from Client_task import client_task\n"
   ]
  },
  {
   "cell_type": "code",
   "execution_count": 2,
   "metadata": {},
   "outputs": [],
   "source": [
    "server_urls = [\"http://127.0.0.1:8003\",\"http://127.0.0.1:8001\" ,\"http://127.0.0.1:8002\",\"http://127.0.0.1:8004\"]\n",
    "# server_url = \"http://127.0.0.1:8002\"  # Server endpoint\n",
    "# server_url = \"http://127.0.0.1:8003\"  # Server endpoint\n",
    "# server_url = \"http://127.0.0.1:8004\"  # Server endpoint\n",
    "\n"
   ]
  },
  {
   "cell_type": "code",
   "execution_count": 3,
   "metadata": {},
   "outputs": [
    {
     "name": "stdout",
     "output_type": "stream",
     "text": [
      "Local Data Shape: (4380, 16)\n",
      "Local Labels Shape: (4380,)\n",
      "21.1498134\n"
     ]
    }
   ],
   "source": [
    "node_file = \"../Datasets/node3.csv\"\n",
    "data = pd.read_csv(node_file)\n",
    "\n",
    "# Extract features (all columns except the 9th one)\n",
    "local_dataset = data.drop(columns=data.columns[9]).values  # Drop the 9th column for features\n",
    "\n",
    "# Extract labels (9th column)\n",
    "targetvar = data.iloc[:, 9].values  # Select the 9th column for labels\n",
    "\n",
    "client3=  Client(\n",
    "        client_id=\"Client3\", \n",
    "        local_data=local_dataset,\n",
    "        local_labels=targetvar,\n",
    "        address=\"Nagpur ,India\" \n",
    "    ) \n",
    "\n",
    "\n",
    "# Print shapes to verify\n",
    "print(f\"Local Data Shape: {client3.local_data.shape}\")\n",
    "print(f\"Local Labels Shape: {client3.local_labels.shape}\")\n",
    "print(client3.latitude)"
   ]
  },
  {
   "cell_type": "code",
   "execution_count": 4,
   "metadata": {},
   "outputs": [
    {
     "name": "stdout",
     "output_type": "stream",
     "text": [
      "aggregation done by url: http://127.0.0.1:8003\n",
      "Client Client3 received aggregated model.\n",
      "{'coef_': [0.0032463957377402, -0.003246395737740243, -0.0025137374459445454, -0.005547425045112674, -0.013563345637769848, 0.010316949900029633, -0.0060571021296144615, 0.02827699441158868, -0.010912334053176662, 0.24707788586631857, -0.051017633400717056, 0.6892986317801686, 0.1740980623425861, 0.026552423576153922, -0.0012164244278388555, 0.07658481931597175], 'intercept_': -0.044036002083634014}\n",
      "Client Client3 fetched the global model.\n",
      "Client Client3 successfully sent update to server url http://127.0.0.1:8003.\n",
      "mse is 0.013074497697649666\n",
      "Client Client3 successfully sent update to server url http://127.0.0.1:8001.\n",
      "mse is 0.013074497697649666\n",
      "Client Client3 successfully sent update to server url http://127.0.0.1:8002.\n",
      "mse is 0.013074497697649666\n",
      "Client Client3 successfully sent update to server url http://127.0.0.1:8004.\n",
      "mse is 0.013074497697649666\n",
      "Client Client3 completed its task with MSE: 0.013074497697649666\n"
     ]
    }
   ],
   "source": [
    "client_id, mse = client_task(client3, server_urls)\n",
    "print(f\"Client {client_id} completed its task with MSE: {mse}\")"
   ]
  },
  {
   "cell_type": "code",
   "execution_count": null,
   "metadata": {},
   "outputs": [],
   "source": [
    "# server_url = \"http://127.0.0.1:8003\"  # Server endpoint\n",
    "# response = requests.get(f\"{server_url}/print-dag\")"
   ]
  },
  {
   "cell_type": "code",
   "execution_count": null,
   "metadata": {},
   "outputs": [],
   "source": [
    "# response = requests.get(\"http://127.0.0.1:8003/prune-graph\")\n",
    "# "
   ]
  },
  {
   "cell_type": "code",
   "execution_count": null,
   "metadata": {},
   "outputs": [],
   "source": [
    "# response = requests.get(\"http://127.0.0.1:8003/plot-graph\")"
   ]
  },
  {
   "cell_type": "code",
   "execution_count": 5,
   "metadata": {},
   "outputs": [
    {
     "name": "stdout",
     "output_type": "stream",
     "text": [
      "aggregation done by url: http://127.0.0.1:8003\n",
      "aggregation done by url: http://127.0.0.1:8001\n",
      "aggregation done by url: http://127.0.0.1:8002\n",
      "aggregation done by url: http://127.0.0.1:8004\n"
     ]
    }
   ],
   "source": [
    "for url in server_urls:\n",
    "    agg_response = requests.get(f\"{url}/aggregate\")\n",
    "    print(f\"aggregation done by url: {url}\")\n",
    "    if agg_response.status_code == 200:\n",
    "            aggregated_model = agg_response.json()\n",
    "            \n",
    "    else:\n",
    "            raise Exception(f\"Failed to aggregate models. Status code: {agg_response.status_code}\")"
   ]
  },
  {
   "cell_type": "code",
   "execution_count": null,
   "metadata": {},
   "outputs": [],
   "source": []
  }
 ],
 "metadata": {
  "kernelspec": {
   "display_name": "tfvenv",
   "language": "python",
   "name": "python3"
  },
  "language_info": {
   "codemirror_mode": {
    "name": "ipython",
    "version": 3
   },
   "file_extension": ".py",
   "mimetype": "text/x-python",
   "name": "python",
   "nbconvert_exporter": "python",
   "pygments_lexer": "ipython3",
   "version": "3.12.3"
  }
 },
 "nbformat": 4,
 "nbformat_minor": 2
}
