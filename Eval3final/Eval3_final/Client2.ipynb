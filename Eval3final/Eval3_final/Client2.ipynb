{
 "cells": [
  {
   "cell_type": "code",
   "execution_count": 1,
   "metadata": {},
   "outputs": [],
   "source": [
    "import requests\n",
    "import numpy as np\n",
    "import pandas as pd\n",
    "from sklearn.linear_model import LinearRegression\n",
    "from sklearn.metrics import mean_squared_error\n",
    "from datetime import datetime\n",
    "from Client import Client\n",
    "from Server import Server\n",
    "from Client_task import client_task\n"
   ]
  },
  {
   "cell_type": "code",
   "execution_count": 2,
   "metadata": {},
   "outputs": [],
   "source": [
    "server_url = \"http://127.0.0.1:8000\"  # Server endpoint\n",
    "\n"
   ]
  },
  {
   "cell_type": "code",
   "execution_count": 3,
   "metadata": {},
   "outputs": [
    {
     "name": "stdout",
     "output_type": "stream",
     "text": [
      "Local Data Shape: (4380, 16)\n",
      "Local Labels Shape: (4380,)\n",
      "21.1498134\n"
     ]
    }
   ],
   "source": [
    "node_file = \"./Datasets/node2.csv\"\n",
    "data = pd.read_csv(node_file)\n",
    "\n",
    "# Extract features (all columns except the 9th one)\n",
    "local_dataset = data.drop(columns=data.columns[9]).values  # Drop the 9th column for features\n",
    "\n",
    "# Extract labels (9th column)\n",
    "targetvar = data.iloc[:, 9].values  # Select the 9th column for labels\n",
    "\n",
    "client2=  Client(\n",
    "        client_id=\"Client2\", \n",
    "        local_data=local_dataset,\n",
    "        local_labels=targetvar,\n",
    "        address=\"Nagpur ,India\" \n",
    "    ) \n",
    "\n",
    "\n",
    "# Print shapes to verify\n",
    "print(f\"Local Data Shape: {client2.local_data.shape}\")\n",
    "print(f\"Local Labels Shape: {client2.local_labels.shape}\")\n",
    "print(client2.latitude)"
   ]
  },
  {
   "cell_type": "code",
   "execution_count": 4,
   "metadata": {},
   "outputs": [
    {
     "name": "stdout",
     "output_type": "stream",
     "text": [
      "{'coef_': [-218717097578.28204, 32544450953.062042, 253306668897.6304, 253306668897.62445, 2045120366.2636833, 2045120366.2861671, 253306668897.61783, 253306668897.65884, 253306668897.61258, 0.24173736572265625, -0.055694580078125, 0.6905250549316406, 0.17067718505859375, 0.020416259765625, -0.0024025440216064453, 0.07690620422363281], 'intercept_': -34589571319.39154}\n",
      "Client Client2 fetched the global model.\n",
      "Client Client2 successfully sent update to server.\n",
      "mse is 0.013946013612387594\n",
      "Client Client2 received aggregated model.\n",
      "Client Client2 completed its task with MSE: 0.013946013612387594\n"
     ]
    }
   ],
   "source": [
    "client_id, mse = client_task(client2, server_url)\n",
    "print(f\"Client {client_id} completed its task with MSE: {mse}\")"
   ]
  },
  {
   "cell_type": "code",
   "execution_count": null,
   "metadata": {},
   "outputs": [],
   "source": []
  }
 ],
 "metadata": {
  "kernelspec": {
   "display_name": "async",
   "language": "python",
   "name": "python3"
  },
  "language_info": {
   "codemirror_mode": {
    "name": "ipython",
    "version": 3
   },
   "file_extension": ".py",
   "mimetype": "text/x-python",
   "name": "python",
   "nbconvert_exporter": "python",
   "pygments_lexer": "ipython3",
   "version": "3.10.12"
  }
 },
 "nbformat": 4,
 "nbformat_minor": 2
}
