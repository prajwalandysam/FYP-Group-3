{
 "cells": [
  {
   "cell_type": "code",
   "execution_count": null,
   "metadata": {},
   "outputs": [],
   "source": [
    "import requests\n",
    "import numpy as np\n",
    "import pandas as pd\n",
    "from sklearn.linear_model import LinearRegression\n",
    "from sklearn.metrics import mean_squared_error\n",
    "from datetime import datetime\n",
    "from src.Client import Client\n",
    "from src.Server import Server"
   ]
  },
  {
   "cell_type": "code",
   "execution_count": null,
   "metadata": {},
   "outputs": [],
   "source": [
    "server_url = \"http://127.0.0.1:5000\"  # Server endpoint\n"
   ]
  },
  {
   "cell_type": "code",
   "execution_count": null,
   "metadata": {},
   "outputs": [
    {
     "name": "stdout",
     "output_type": "stream",
     "text": [
      "Local Data Shape: (4380, 16)\n",
      "Local Labels Shape: (4380,)\n"
     ]
    }
   ],
   "source": [
    "node_file = \"./Datasets/node8.csv\"\n",
    "data = pd.read_csv(node_file)\n",
    "\n",
    "# Extract features (all columns except the 9th one)\n",
    "local_dataset = data.drop(columns=data.columns[9]).values  # Drop the 9th column for features\n",
    "\n",
    "# Extract labels (9th column)\n",
    "targetvar = data.iloc[:, 9].values  # Select the 9th column for labels\n",
    "\n",
    "client8=  Client(\n",
    "        client_id=\"client8\", \n",
    "        local_data=local_dataset,\n",
    "        local_labels=targetvar,\n",
    "        address=\"Nagpur ,India\"\n",
    "    ) \n",
    "\n",
    "\n",
    "\n",
    "# Print shapes to verify\n",
    "print(f\"Local Data Shape: {client8.local_data.shape}\")\n",
    "print(f\"Local Labels Shape: {client8.local_labels.shape}\")"
   ]
  },
  {
   "cell_type": "code",
   "execution_count": null,
   "metadata": {},
   "outputs": [],
   "source": [
    "# Fetch global model from the server\n",
    "response = requests.get(f\"{server_url}/get_global_model\")\n",
    "global_model = response.json()"
   ]
  },
  {
   "cell_type": "code",
   "execution_count": null,
   "metadata": {},
   "outputs": [],
   "source": [
    "# Train local model\n",
    "local_model = LinearRegression()\n",
    "local_model.coef_ = np.array(global_model[\"coef_\"])\n",
    "local_model.intercept_ = global_model[\"intercept_\"]\n",
    "local_model.fit(local_data, local_labels)\n"
   ]
  },
  {
   "cell_type": "code",
   "execution_count": null,
   "metadata": {},
   "outputs": [],
   "source": [
    "# Evaluate the local model\n",
    "y_pred = local_model.predict(local_data)\n",
    "mse = mean_squared_error(local_labels, y_pred)\n",
    "print(f\"{client_id} - Local MSE: {mse:.4f}\")"
   ]
  },
  {
   "cell_type": "code",
   "execution_count": null,
   "metadata": {},
   "outputs": [],
   "source": [
    "# Send update to the server\n",
    "timestamp = datetime.now().strftime('%Y-%m-%d %H:%M:%S.%f')[:-3]\n",
    "update = {\n",
    "    \"client\": {\"client_id\": client_id, \"latitude\": latitude, \"longitude\": longitude},\n",
    "    \"model\": {\"coef_\": local_model.coef_.tolist(), \"intercept_\": local_model.intercept_},\n",
    "    \"metadata\": {\"weight\": 1, \"timestamp\": timestamp}\n",
    "}\n",
    "response = requests.post(f\"{server_url}/send_update\", json=update)\n",
    "print(response.json())"
   ]
  },
  {
   "cell_type": "code",
   "execution_count": null,
   "metadata": {},
   "outputs": [],
   "source": [
    "# Request aggregation (optional)\n",
    "requests.post(f\"{server_url}/aggregate\")\n"
   ]
  }
 ],
 "metadata": {
  "kernelspec": {
   "display_name": "portsenv",
   "language": "python",
   "name": "python3"
  },
  "language_info": {
   "codemirror_mode": {
    "name": "ipython",
    "version": 3
   },
   "file_extension": ".py",
   "mimetype": "text/x-python",
   "name": "python",
   "nbconvert_exporter": "python",
   "pygments_lexer": "ipython3",
   "version": "3.10.12"
  }
 },
 "nbformat": 4,
 "nbformat_minor": 2
}
