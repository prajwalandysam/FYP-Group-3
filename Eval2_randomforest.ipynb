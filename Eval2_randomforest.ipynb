{
 "cells": [
  {
   "cell_type": "code",
   "execution_count": 39,
   "metadata": {},
   "outputs": [],
   "source": [
    "import pandas as pd\n",
    "import numpy as np\n",
    "from sklearn.linear_model import LinearRegression\n",
    "from sklearn.svm import SVR\n",
    "from sklearn.metrics import mean_squared_error\n",
    "from sklearn.preprocessing import StandardScaler"
   ]
  },
  {
   "cell_type": "code",
   "execution_count": 40,
   "metadata": {},
   "outputs": [
    {
     "name": "stdout",
     "output_type": "stream",
     "text": [
      "date                                    0\n",
      "Usage_kWh                               0\n",
      "Lagging_Current_Reactive.Power_kVarh    0\n",
      "Leading_Current_Reactive_Power_kVarh    0\n",
      "CO2(tCO2)                               0\n",
      "Lagging_Current_Power_Factor            0\n",
      "Leading_Current_Power_Factor            0\n",
      "NSM                                     0\n",
      "WeekStatus                              0\n",
      "Day_of_week                             0\n",
      "Load_Type                               0\n",
      "dtype: int64\n"
     ]
    },
    {
     "data": {
      "text/html": [
       "<div>\n",
       "<style scoped>\n",
       "    .dataframe tbody tr th:only-of-type {\n",
       "        vertical-align: middle;\n",
       "    }\n",
       "\n",
       "    .dataframe tbody tr th {\n",
       "        vertical-align: top;\n",
       "    }\n",
       "\n",
       "    .dataframe thead th {\n",
       "        text-align: right;\n",
       "    }\n",
       "</style>\n",
       "<table border=\"1\" class=\"dataframe\">\n",
       "  <thead>\n",
       "    <tr style=\"text-align: right;\">\n",
       "      <th></th>\n",
       "      <th>Usage_kWh</th>\n",
       "      <th>Lagging_Current_Reactive.Power_kVarh</th>\n",
       "      <th>Leading_Current_Reactive_Power_kVarh</th>\n",
       "      <th>CO2(tCO2)</th>\n",
       "      <th>Lagging_Current_Power_Factor</th>\n",
       "      <th>Leading_Current_Power_Factor</th>\n",
       "      <th>NSM</th>\n",
       "      <th>WeekStatus</th>\n",
       "      <th>Day_of_week</th>\n",
       "      <th>Load_Type</th>\n",
       "    </tr>\n",
       "  </thead>\n",
       "  <tbody>\n",
       "    <tr>\n",
       "      <th>0</th>\n",
       "      <td>3.17</td>\n",
       "      <td>2.95</td>\n",
       "      <td>0.0</td>\n",
       "      <td>0.0</td>\n",
       "      <td>73.21</td>\n",
       "      <td>100.0</td>\n",
       "      <td>900</td>\n",
       "      <td>Weekday</td>\n",
       "      <td>Monday</td>\n",
       "      <td>Light_Load</td>\n",
       "    </tr>\n",
       "    <tr>\n",
       "      <th>1</th>\n",
       "      <td>4.00</td>\n",
       "      <td>4.46</td>\n",
       "      <td>0.0</td>\n",
       "      <td>0.0</td>\n",
       "      <td>66.77</td>\n",
       "      <td>100.0</td>\n",
       "      <td>1800</td>\n",
       "      <td>Weekday</td>\n",
       "      <td>Monday</td>\n",
       "      <td>Light_Load</td>\n",
       "    </tr>\n",
       "    <tr>\n",
       "      <th>2</th>\n",
       "      <td>3.24</td>\n",
       "      <td>3.28</td>\n",
       "      <td>0.0</td>\n",
       "      <td>0.0</td>\n",
       "      <td>70.28</td>\n",
       "      <td>100.0</td>\n",
       "      <td>2700</td>\n",
       "      <td>Weekday</td>\n",
       "      <td>Monday</td>\n",
       "      <td>Light_Load</td>\n",
       "    </tr>\n",
       "    <tr>\n",
       "      <th>3</th>\n",
       "      <td>3.31</td>\n",
       "      <td>3.56</td>\n",
       "      <td>0.0</td>\n",
       "      <td>0.0</td>\n",
       "      <td>68.09</td>\n",
       "      <td>100.0</td>\n",
       "      <td>3600</td>\n",
       "      <td>Weekday</td>\n",
       "      <td>Monday</td>\n",
       "      <td>Light_Load</td>\n",
       "    </tr>\n",
       "    <tr>\n",
       "      <th>4</th>\n",
       "      <td>3.82</td>\n",
       "      <td>4.50</td>\n",
       "      <td>0.0</td>\n",
       "      <td>0.0</td>\n",
       "      <td>64.72</td>\n",
       "      <td>100.0</td>\n",
       "      <td>4500</td>\n",
       "      <td>Weekday</td>\n",
       "      <td>Monday</td>\n",
       "      <td>Light_Load</td>\n",
       "    </tr>\n",
       "  </tbody>\n",
       "</table>\n",
       "</div>"
      ],
      "text/plain": [
       "   Usage_kWh  Lagging_Current_Reactive.Power_kVarh  \\\n",
       "0       3.17                                  2.95   \n",
       "1       4.00                                  4.46   \n",
       "2       3.24                                  3.28   \n",
       "3       3.31                                  3.56   \n",
       "4       3.82                                  4.50   \n",
       "\n",
       "   Leading_Current_Reactive_Power_kVarh  CO2(tCO2)  \\\n",
       "0                                   0.0        0.0   \n",
       "1                                   0.0        0.0   \n",
       "2                                   0.0        0.0   \n",
       "3                                   0.0        0.0   \n",
       "4                                   0.0        0.0   \n",
       "\n",
       "   Lagging_Current_Power_Factor  Leading_Current_Power_Factor   NSM  \\\n",
       "0                         73.21                         100.0   900   \n",
       "1                         66.77                         100.0  1800   \n",
       "2                         70.28                         100.0  2700   \n",
       "3                         68.09                         100.0  3600   \n",
       "4                         64.72                         100.0  4500   \n",
       "\n",
       "  WeekStatus Day_of_week   Load_Type  \n",
       "0    Weekday      Monday  Light_Load  \n",
       "1    Weekday      Monday  Light_Load  \n",
       "2    Weekday      Monday  Light_Load  \n",
       "3    Weekday      Monday  Light_Load  \n",
       "4    Weekday      Monday  Light_Load  "
      ]
     },
     "execution_count": 40,
     "metadata": {},
     "output_type": "execute_result"
    }
   ],
   "source": [
    "data = pd.read_csv(\"Steel_industry_data.csv\")\n",
    "print(data.isnull().sum())  # Count of missing values in each column\n",
    "# data['date'] = pd.to_datetime(data['date'])\n",
    "# y_train=data['Usage_kWh'].values\n",
    "data = data.drop(columns=['date'])\n",
    "X_train=data.values\n",
    "\n",
    "data.head()\n"
   ]
  },
  {
   "cell_type": "code",
   "execution_count": 41,
   "metadata": {},
   "outputs": [
    {
     "name": "stdout",
     "output_type": "stream",
     "text": [
      "[[3.17 2.95 0.0 ... 'Weekday' 'Monday' 'Light_Load']\n",
      " [4.0 4.46 0.0 ... 'Weekday' 'Monday' 'Light_Load']\n",
      " [3.24 3.28 0.0 ... 'Weekday' 'Monday' 'Light_Load']\n",
      " ...\n",
      " [3.78 3.17 0.07 ... 'Weekday' 'Monday' 'Light_Load']\n",
      " [3.78 3.06 0.11 ... 'Weekday' 'Monday' 'Light_Load']\n",
      " [3.67 3.02 0.07 ... 'Weekday' 'Monday' 'Light_Load']]\n"
     ]
    }
   ],
   "source": [
    "print(X_train)"
   ]
  },
  {
   "cell_type": "code",
   "execution_count": 42,
   "metadata": {},
   "outputs": [
    {
     "name": "stdout",
     "output_type": "stream",
     "text": [
      "[[3.17 -0.6185163432975694 -0.5213850478056785 ... 'Weekday' 'Monday'\n",
      "  'Light_Load']\n",
      " [4.0 -0.5259110722465691 -0.5213850478056785 ... 'Weekday' 'Monday'\n",
      "  'Light_Load']\n",
      " [3.24 -0.598278105253311 -0.5213850478056785 ... 'Weekday' 'Monday'\n",
      "  'Light_Load']\n",
      " ...\n",
      " [3.78 -0.6050241846013972 -0.5119566216410291 ... 'Weekday' 'Monday'\n",
      "  'Light_Load']\n",
      " [3.78 -0.6117702639494832 -0.5065689495469436 ... 'Weekday' 'Monday'\n",
      "  'Light_Load']\n",
      " [3.67 -0.6142233837124237 -0.5119566216410291 ... 'Weekday' 'Monday'\n",
      "  'Light_Load']]\n"
     ]
    },
    {
     "data": {
      "text/plain": [
       "(35040, 10)"
      ]
     },
     "execution_count": 42,
     "metadata": {},
     "output_type": "execute_result"
    }
   ],
   "source": [
    "scaler = StandardScaler()\n",
    "\n",
    "# Perform scaling and assign it after casting the columns to float\n",
    "X_train[:, 1:7] = scaler.fit_transform(X_train[:, 1:7]).astype('float64')\n",
    "\n",
    "\n",
    "print(X_train)\n",
    "X_train.shape\n",
    "# df=pd.DataFrame(X_train)\n",
    "# df.to_csv('scaled_Steel_industry_data.csv', index=False, header=True)"
   ]
  },
  {
   "cell_type": "code",
   "execution_count": 43,
   "metadata": {},
   "outputs": [
    {
     "name": "stdout",
     "output_type": "stream",
     "text": [
      "[[1.0 0.0 0.0 ... 0.5132676163619359 -1.6780152604563736 'Light_Load']\n",
      " [1.0 0.0 0.0 ... 0.5132676163619359 -1.6419289107691397 'Light_Load']\n",
      " [1.0 0.0 0.0 ... 0.5132676163619359 -1.6058425610819058 'Light_Load']\n",
      " ...\n",
      " [1.0 0.0 0.0 ... 0.5126109334762843 1.6780152604563736 'Light_Load']\n",
      " [1.0 0.0 0.0 ... 0.5119542505906323 1.7141016101436073 'Light_Load']\n",
      " [1.0 0.0 0.0 ... 0.5126109334762843 -1.7141016101436073 'Light_Load']]\n",
      "(35040, 17)\n"
     ]
    }
   ],
   "source": [
    "from sklearn.compose import ColumnTransformer\n",
    "from sklearn.preprocessing import OneHotEncoder\n",
    "ct = ColumnTransformer(transformers=[('encoder',OneHotEncoder(),[7,8])],remainder='passthrough')\n",
    "X_train=ct.fit_transform(X_train)\n",
    "print(X_train)\n",
    "print(X_train.shape)\n",
    "# df=pd.DataFrame(X_train)\n",
    "# df.to_csv('scaled_Steel_industry_data.csv', index=False, header=True)\n"
   ]
  },
  {
   "cell_type": "code",
   "execution_count": 45,
   "metadata": {},
   "outputs": [
    {
     "name": "stdout",
     "output_type": "stream",
     "text": [
      "[[1.0 0.0 0.0 ... 0.5132676163619359 -1.6780152604563736 0]\n",
      " [1.0 0.0 0.0 ... 0.5132676163619359 -1.6419289107691397 0]\n",
      " [1.0 0.0 0.0 ... 0.5132676163619359 -1.6058425610819058 0]\n",
      " ...\n",
      " [1.0 0.0 0.0 ... 0.5126109334762843 1.6780152604563736 0]\n",
      " [1.0 0.0 0.0 ... 0.5119542505906323 1.7141016101436073 0]\n",
      " [1.0 0.0 0.0 ... 0.5126109334762843 -1.7141016101436073 0]]\n"
     ]
    }
   ],
   "source": [
    "from sklearn.preprocessing import LabelEncoder\n",
    "le=LabelEncoder()\n",
    "X_train[:,-1]=le.fit_transform(X_train[:,-1])\n",
    "print(X_train)\n",
    "type(X_train)\n",
    "df=pd.DataFrame(X_train)\n",
    "df.to_csv('scaled_Steel_industry_data.csv', index=False, header=True)"
   ]
  },
  {
   "cell_type": "code",
   "execution_count": 46,
   "metadata": {},
   "outputs": [],
   "source": [
    "# Ensure data_scaled is converted to a NumPy array before splitting\n",
    "node_data = np.array_split(X_train, 8)\n"
   ]
  },
  {
   "cell_type": "code",
   "execution_count": 47,
   "metadata": {},
   "outputs": [],
   "source": [
    "global_model = SVR(kernel='linear')"
   ]
  },
  {
   "cell_type": "code",
   "execution_count": 48,
   "metadata": {},
   "outputs": [],
   "source": [
    "def federated_averaging(svr_models):\n",
    "    \"\"\"Aggregate SVR models by averaging support vectors and coefficients.\"\"\"\n",
    "    # Collect support vectors and dual coefficients from all models\n",
    "    all_support_vectors = np.concatenate([model.support_vectors_ for model in svr_models], axis=0)\n",
    "    all_dual_coef = np.concatenate([model.dual_coef_ for model in svr_models], axis=0)\n",
    "\n",
    "    # Average dual coefficients (may need custom logic based on your problem)\n",
    "    avg_dual_coef = np.mean(all_dual_coef, axis=0)\n",
    "\n",
    "    # Create a new SVR model to hold aggregated parameters\n",
    "    aggregated_model = SVR(kernel='linear')  # Use the same kernel as your local models\n",
    "    aggregated_model.support_vectors_ = all_support_vectors\n",
    "    aggregated_model.dual_coef_ = avg_dual_coef\n",
    "    return aggregated_model\n",
    "\n",
    "# Function to train the local model on each node's data\n",
    "def train_local_model(data):\n",
    "    y = data[:, 11]  # Target (Usage_kWh)\n",
    "    X = np.concatenate((data[:, :11], data[:, 12:]), axis=1)  # All columns except the target\n",
    "    model = SVR(kernel='linear')  # Specify kernel type as needed\n",
    "    model.fit(X, y)\n",
    "    return model"
   ]
  },
  {
   "cell_type": "code",
   "execution_count": 49,
   "metadata": {},
   "outputs": [
    {
     "name": "stdout",
     "output_type": "stream",
     "text": [
      "Iteration 1:\n",
      "  Node 1 - MSE: 0.0895\n",
      "  Node 2 - MSE: 0.1101\n",
      "  Node 3 - MSE: 0.0959\n",
      "  Node 4 - MSE: 0.0779\n",
      "  Node 5 - MSE: 0.0972\n",
      "  Node 6 - MSE: 0.0369\n",
      "  Node 7 - MSE: 0.0252\n",
      "  Node 8 - MSE: 0.0506\n"
     ]
    },
    {
     "ename": "ValueError",
     "evalue": "all the input array dimensions except for the concatenation axis must match exactly, but along dimension 1, the array at index 0 has size 652 and the array at index 1 has size 538",
     "output_type": "error",
     "traceback": [
      "\u001b[0;31m---------------------------------------------------------------------------\u001b[0m",
      "\u001b[0;31mValueError\u001b[0m                                Traceback (most recent call last)",
      "Cell \u001b[0;32mIn[49], line 24\u001b[0m\n\u001b[1;32m     21\u001b[0m     \u001b[38;5;28mprint\u001b[39m(\u001b[38;5;124mf\u001b[39m\u001b[38;5;124m\"\u001b[39m\u001b[38;5;124m  Node \u001b[39m\u001b[38;5;132;01m{\u001b[39;00mi\u001b[38;5;250m \u001b[39m\u001b[38;5;241m+\u001b[39m\u001b[38;5;250m \u001b[39m\u001b[38;5;241m1\u001b[39m\u001b[38;5;132;01m}\u001b[39;00m\u001b[38;5;124m - MSE: \u001b[39m\u001b[38;5;132;01m{\u001b[39;00mmse\u001b[38;5;132;01m:\u001b[39;00m\u001b[38;5;124m.4f\u001b[39m\u001b[38;5;132;01m}\u001b[39;00m\u001b[38;5;124m\"\u001b[39m)\n\u001b[1;32m     23\u001b[0m \u001b[38;5;66;03m# Aggregate the local model updates using Federated Averaging\u001b[39;00m\n\u001b[0;32m---> 24\u001b[0m aggregated_model \u001b[38;5;241m=\u001b[39m \u001b[43mfederated_averaging\u001b[49m\u001b[43m(\u001b[49m\u001b[43mlocal_models\u001b[49m\u001b[43m)\u001b[49m\n\u001b[1;32m     26\u001b[0m \u001b[38;5;66;03m# Update the global model with aggregated parameters\u001b[39;00m\n\u001b[1;32m     27\u001b[0m global_model\u001b[38;5;241m.\u001b[39msupport_vectors_ \u001b[38;5;241m=\u001b[39m aggregated_model\u001b[38;5;241m.\u001b[39msupport_vectors_\n",
      "Cell \u001b[0;32mIn[48], line 5\u001b[0m, in \u001b[0;36mfederated_averaging\u001b[0;34m(svr_models)\u001b[0m\n\u001b[1;32m      3\u001b[0m \u001b[38;5;66;03m# Collect support vectors and dual coefficients from all models\u001b[39;00m\n\u001b[1;32m      4\u001b[0m all_support_vectors \u001b[38;5;241m=\u001b[39m np\u001b[38;5;241m.\u001b[39mconcatenate([model\u001b[38;5;241m.\u001b[39msupport_vectors_ \u001b[38;5;28;01mfor\u001b[39;00m model \u001b[38;5;129;01min\u001b[39;00m svr_models], axis\u001b[38;5;241m=\u001b[39m\u001b[38;5;241m0\u001b[39m)\n\u001b[0;32m----> 5\u001b[0m all_dual_coef \u001b[38;5;241m=\u001b[39m \u001b[43mnp\u001b[49m\u001b[38;5;241;43m.\u001b[39;49m\u001b[43mconcatenate\u001b[49m\u001b[43m(\u001b[49m\u001b[43m[\u001b[49m\u001b[43mmodel\u001b[49m\u001b[38;5;241;43m.\u001b[39;49m\u001b[43mdual_coef_\u001b[49m\u001b[43m \u001b[49m\u001b[38;5;28;43;01mfor\u001b[39;49;00m\u001b[43m \u001b[49m\u001b[43mmodel\u001b[49m\u001b[43m \u001b[49m\u001b[38;5;129;43;01min\u001b[39;49;00m\u001b[43m \u001b[49m\u001b[43msvr_models\u001b[49m\u001b[43m]\u001b[49m\u001b[43m,\u001b[49m\u001b[43m \u001b[49m\u001b[43maxis\u001b[49m\u001b[38;5;241;43m=\u001b[39;49m\u001b[38;5;241;43m0\u001b[39;49m\u001b[43m)\u001b[49m\n\u001b[1;32m      7\u001b[0m \u001b[38;5;66;03m# Average dual coefficients (may need custom logic based on your problem)\u001b[39;00m\n\u001b[1;32m      8\u001b[0m avg_dual_coef \u001b[38;5;241m=\u001b[39m np\u001b[38;5;241m.\u001b[39mmean(all_dual_coef, axis\u001b[38;5;241m=\u001b[39m\u001b[38;5;241m0\u001b[39m)\n",
      "\u001b[0;31mValueError\u001b[0m: all the input array dimensions except for the concatenation axis must match exactly, but along dimension 1, the array at index 0 has size 652 and the array at index 1 has size 538"
     ]
    }
   ],
   "source": [
    "# Federated Learning Process\n",
    "for iteration in range(3):\n",
    "    print(f\"Iteration {iteration + 1}:\")\n",
    "\n",
    "    # Local models for each node\n",
    "    local_models = []\n",
    "\n",
    "    # Train each node's model using 1460 rows in this iteration\n",
    "    for i, node in enumerate(node_data):\n",
    "        start = iteration * 1460\n",
    "        end = start + 1460\n",
    "        node_subset = node[start:end]\n",
    "\n",
    "        # Train the local model on the subset\n",
    "        local_model = train_local_model(node_subset)\n",
    "        local_models.append(local_model)\n",
    "\n",
    "        # Evaluate the local model\n",
    "        y_pred = local_model.predict(np.concatenate((node_subset[:, :11], node_subset[:, 12:]), axis=1))\n",
    "        mse = mean_squared_error(node_subset[:, 11], y_pred)\n",
    "        print(f\"  Node {i + 1} - MSE: {mse:.4f}\")\n",
    "\n",
    "    # Aggregate the local model updates using Federated Averaging\n",
    "    aggregated_model = federated_averaging(local_models)\n",
    "\n",
    "    # Update the global model with aggregated parameters\n",
    "    global_model.support_vectors_ = aggregated_model.support_vectors_\n",
    "    global_model.dual_coef_ = aggregated_model.dual_coef_\n",
    "\n",
    "    print(f\"Global model updated after iteration {iteration + 1}.\\n\")"
   ]
  },
  {
   "cell_type": "code",
   "execution_count": 36,
   "metadata": {},
   "outputs": [
    {
     "ename": "AttributeError",
     "evalue": "'RandomForestRegressor' object has no attribute 'estimators_'",
     "output_type": "error",
     "traceback": [
      "\u001b[0;31m---------------------------------------------------------------------------\u001b[0m",
      "\u001b[0;31mAttributeError\u001b[0m                            Traceback (most recent call last)",
      "Cell \u001b[0;32mIn[36], line 14\u001b[0m\n\u001b[1;32m     11\u001b[0m df\u001b[38;5;241m=\u001b[39mpd\u001b[38;5;241m.\u001b[39mDataFrame(y_test)\n\u001b[1;32m     12\u001b[0m df\u001b[38;5;241m.\u001b[39mto_csv(\u001b[38;5;124m'\u001b[39m\u001b[38;5;124mtest_data.csv\u001b[39m\u001b[38;5;124m'\u001b[39m, index\u001b[38;5;241m=\u001b[39m\u001b[38;5;28;01mFalse\u001b[39;00m, header\u001b[38;5;241m=\u001b[39m\u001b[38;5;28;01mTrue\u001b[39;00m)\n\u001b[0;32m---> 14\u001b[0m y_pred \u001b[38;5;241m=\u001b[39m \u001b[43mglobal_model\u001b[49m\u001b[38;5;241;43m.\u001b[39;49m\u001b[43mpredict\u001b[49m\u001b[43m(\u001b[49m\u001b[43mX_test\u001b[49m\u001b[43m)\u001b[49m\n\u001b[1;32m     15\u001b[0m final_mse \u001b[38;5;241m=\u001b[39m mean_squared_error(y_test, y_pred)\n\u001b[1;32m     16\u001b[0m \u001b[38;5;28mprint\u001b[39m(\u001b[38;5;124mf\u001b[39m\u001b[38;5;124m\"\u001b[39m\u001b[38;5;124mFinal Global Model MSE on Test Data: \u001b[39m\u001b[38;5;132;01m{\u001b[39;00mfinal_mse\u001b[38;5;132;01m:\u001b[39;00m\u001b[38;5;124m.4f\u001b[39m\u001b[38;5;132;01m}\u001b[39;00m\u001b[38;5;124m\"\u001b[39m)\n",
      "File \u001b[0;32m/media/prajwalsam/WORK/Prajwal sam documents/FYP-Group-3/myenv/lib/python3.10/site-packages/sklearn/ensemble/_forest.py:1063\u001b[0m, in \u001b[0;36mForestRegressor.predict\u001b[0;34m(self, X)\u001b[0m\n\u001b[1;32m   1061\u001b[0m check_is_fitted(\u001b[38;5;28mself\u001b[39m)\n\u001b[1;32m   1062\u001b[0m \u001b[38;5;66;03m# Check data\u001b[39;00m\n\u001b[0;32m-> 1063\u001b[0m X \u001b[38;5;241m=\u001b[39m \u001b[38;5;28;43mself\u001b[39;49m\u001b[38;5;241;43m.\u001b[39;49m\u001b[43m_validate_X_predict\u001b[49m\u001b[43m(\u001b[49m\u001b[43mX\u001b[49m\u001b[43m)\u001b[49m\n\u001b[1;32m   1065\u001b[0m \u001b[38;5;66;03m# Assign chunk of trees to jobs\u001b[39;00m\n\u001b[1;32m   1066\u001b[0m n_jobs, _, _ \u001b[38;5;241m=\u001b[39m _partition_estimators(\u001b[38;5;28mself\u001b[39m\u001b[38;5;241m.\u001b[39mn_estimators, \u001b[38;5;28mself\u001b[39m\u001b[38;5;241m.\u001b[39mn_jobs)\n",
      "File \u001b[0;32m/media/prajwalsam/WORK/Prajwal sam documents/FYP-Group-3/myenv/lib/python3.10/site-packages/sklearn/ensemble/_forest.py:636\u001b[0m, in \u001b[0;36mBaseForest._validate_X_predict\u001b[0;34m(self, X)\u001b[0m\n\u001b[1;32m    633\u001b[0m \u001b[38;5;250m\u001b[39m\u001b[38;5;124;03m\"\"\"\u001b[39;00m\n\u001b[1;32m    634\u001b[0m \u001b[38;5;124;03mValidate X whenever one tries to predict, apply, predict_proba.\"\"\"\u001b[39;00m\n\u001b[1;32m    635\u001b[0m check_is_fitted(\u001b[38;5;28mself\u001b[39m)\n\u001b[0;32m--> 636\u001b[0m \u001b[38;5;28;01mif\u001b[39;00m \u001b[38;5;28;43mself\u001b[39;49m\u001b[38;5;241;43m.\u001b[39;49m\u001b[43mestimators_\u001b[49m[\u001b[38;5;241m0\u001b[39m]\u001b[38;5;241m.\u001b[39m_support_missing_values(X):\n\u001b[1;32m    637\u001b[0m     force_all_finite \u001b[38;5;241m=\u001b[39m \u001b[38;5;124m\"\u001b[39m\u001b[38;5;124mallow-nan\u001b[39m\u001b[38;5;124m\"\u001b[39m\n\u001b[1;32m    638\u001b[0m \u001b[38;5;28;01melse\u001b[39;00m:\n",
      "\u001b[0;31mAttributeError\u001b[0m: 'RandomForestRegressor' object has no attribute 'estimators_'"
     ]
    }
   ],
   "source": [
    "# Final Evaluation (Optional): Use some test data for evaluation\n",
    "test_data = node_data[0][:1460]  # Example: Using first 1460 rows from node 1 as test data\n",
    "# X_test = test_data[:, 1:]\n",
    "# y_test = test_data[:, 1]\n",
    "test_data\n",
    "\n",
    "y_test = test_data[:, 11]   # Target (Usage_kWh)\n",
    "    # Select all columns except the 12th column using slicing\n",
    "X_test= np.concatenate((test_data[:, :11], test_data[:, 12:]), axis=1)\n",
    "\n",
    "df=pd.DataFrame(y_test)\n",
    "df.to_csv('test_data.csv', index=False, header=True)\n",
    "\n",
    "y_pred = global_model.predict(X_test)\n",
    "final_mse = mean_squared_error(y_test, y_pred)\n",
    "print(f\"Final Global Model MSE on Test Data: {final_mse:.4f}\")"
   ]
  },
  {
   "cell_type": "code",
   "execution_count": 12,
   "metadata": {},
   "outputs": [
    {
     "name": "stdout",
     "output_type": "stream",
     "text": [
      "0.8983988342396683\n"
     ]
    }
   ],
   "source": [
    "from sklearn.metrics import r2_score\n",
    "r2 = r2_score(y_test, y_pred)\n",
    "print(r2)"
   ]
  },
  {
   "cell_type": "code",
   "execution_count": null,
   "metadata": {},
   "outputs": [],
   "source": []
  }
 ],
 "metadata": {
  "kernelspec": {
   "display_name": "myenv",
   "language": "python",
   "name": "python3"
  },
  "language_info": {
   "codemirror_mode": {
    "name": "ipython",
    "version": 3
   },
   "file_extension": ".py",
   "mimetype": "text/x-python",
   "name": "python",
   "nbconvert_exporter": "python",
   "pygments_lexer": "ipython3",
   "version": "3.10.12"
  }
 },
 "nbformat": 4,
 "nbformat_minor": 2
}
