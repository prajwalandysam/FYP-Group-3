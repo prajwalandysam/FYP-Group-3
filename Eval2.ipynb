{
 "cells": [
  {
   "cell_type": "code",
   "execution_count": 60,
   "metadata": {},
   "outputs": [],
   "source": [
    "import pandas as pd\n",
    "import numpy as np\n",
    "from sklearn.linear_model import LinearRegression\n",
    "from sklearn.metrics import mean_squared_error\n",
    "from sklearn.preprocessing import StandardScaler"
   ]
  },
  {
   "cell_type": "code",
   "execution_count": 61,
   "metadata": {},
   "outputs": [
    {
     "name": "stdout",
     "output_type": "stream",
     "text": [
      "date                                    0\n",
      "Usage_kWh                               0\n",
      "Lagging_Current_Reactive.Power_kVarh    0\n",
      "Leading_Current_Reactive_Power_kVarh    0\n",
      "CO2(tCO2)                               0\n",
      "Lagging_Current_Power_Factor            0\n",
      "Leading_Current_Power_Factor            0\n",
      "NSM                                     0\n",
      "WeekStatus                              0\n",
      "Day_of_week                             0\n",
      "Load_Type                               0\n",
      "dtype: int64\n"
     ]
    },
    {
     "data": {
      "text/html": [
       "<div>\n",
       "<style scoped>\n",
       "    .dataframe tbody tr th:only-of-type {\n",
       "        vertical-align: middle;\n",
       "    }\n",
       "\n",
       "    .dataframe tbody tr th {\n",
       "        vertical-align: top;\n",
       "    }\n",
       "\n",
       "    .dataframe thead th {\n",
       "        text-align: right;\n",
       "    }\n",
       "</style>\n",
       "<table border=\"1\" class=\"dataframe\">\n",
       "  <thead>\n",
       "    <tr style=\"text-align: right;\">\n",
       "      <th></th>\n",
       "      <th>Usage_kWh</th>\n",
       "      <th>Lagging_Current_Reactive.Power_kVarh</th>\n",
       "      <th>Leading_Current_Reactive_Power_kVarh</th>\n",
       "      <th>CO2(tCO2)</th>\n",
       "      <th>Lagging_Current_Power_Factor</th>\n",
       "      <th>Leading_Current_Power_Factor</th>\n",
       "      <th>NSM</th>\n",
       "      <th>WeekStatus</th>\n",
       "      <th>Day_of_week</th>\n",
       "      <th>Load_Type</th>\n",
       "    </tr>\n",
       "  </thead>\n",
       "  <tbody>\n",
       "    <tr>\n",
       "      <th>0</th>\n",
       "      <td>3.17</td>\n",
       "      <td>2.95</td>\n",
       "      <td>0.0</td>\n",
       "      <td>0.0</td>\n",
       "      <td>73.21</td>\n",
       "      <td>100.0</td>\n",
       "      <td>900</td>\n",
       "      <td>Weekday</td>\n",
       "      <td>Monday</td>\n",
       "      <td>Light_Load</td>\n",
       "    </tr>\n",
       "    <tr>\n",
       "      <th>1</th>\n",
       "      <td>4.00</td>\n",
       "      <td>4.46</td>\n",
       "      <td>0.0</td>\n",
       "      <td>0.0</td>\n",
       "      <td>66.77</td>\n",
       "      <td>100.0</td>\n",
       "      <td>1800</td>\n",
       "      <td>Weekday</td>\n",
       "      <td>Monday</td>\n",
       "      <td>Light_Load</td>\n",
       "    </tr>\n",
       "    <tr>\n",
       "      <th>2</th>\n",
       "      <td>3.24</td>\n",
       "      <td>3.28</td>\n",
       "      <td>0.0</td>\n",
       "      <td>0.0</td>\n",
       "      <td>70.28</td>\n",
       "      <td>100.0</td>\n",
       "      <td>2700</td>\n",
       "      <td>Weekday</td>\n",
       "      <td>Monday</td>\n",
       "      <td>Light_Load</td>\n",
       "    </tr>\n",
       "    <tr>\n",
       "      <th>3</th>\n",
       "      <td>3.31</td>\n",
       "      <td>3.56</td>\n",
       "      <td>0.0</td>\n",
       "      <td>0.0</td>\n",
       "      <td>68.09</td>\n",
       "      <td>100.0</td>\n",
       "      <td>3600</td>\n",
       "      <td>Weekday</td>\n",
       "      <td>Monday</td>\n",
       "      <td>Light_Load</td>\n",
       "    </tr>\n",
       "    <tr>\n",
       "      <th>4</th>\n",
       "      <td>3.82</td>\n",
       "      <td>4.50</td>\n",
       "      <td>0.0</td>\n",
       "      <td>0.0</td>\n",
       "      <td>64.72</td>\n",
       "      <td>100.0</td>\n",
       "      <td>4500</td>\n",
       "      <td>Weekday</td>\n",
       "      <td>Monday</td>\n",
       "      <td>Light_Load</td>\n",
       "    </tr>\n",
       "  </tbody>\n",
       "</table>\n",
       "</div>"
      ],
      "text/plain": [
       "   Usage_kWh  Lagging_Current_Reactive.Power_kVarh  \\\n",
       "0       3.17                                  2.95   \n",
       "1       4.00                                  4.46   \n",
       "2       3.24                                  3.28   \n",
       "3       3.31                                  3.56   \n",
       "4       3.82                                  4.50   \n",
       "\n",
       "   Leading_Current_Reactive_Power_kVarh  CO2(tCO2)  \\\n",
       "0                                   0.0        0.0   \n",
       "1                                   0.0        0.0   \n",
       "2                                   0.0        0.0   \n",
       "3                                   0.0        0.0   \n",
       "4                                   0.0        0.0   \n",
       "\n",
       "   Lagging_Current_Power_Factor  Leading_Current_Power_Factor   NSM  \\\n",
       "0                         73.21                         100.0   900   \n",
       "1                         66.77                         100.0  1800   \n",
       "2                         70.28                         100.0  2700   \n",
       "3                         68.09                         100.0  3600   \n",
       "4                         64.72                         100.0  4500   \n",
       "\n",
       "  WeekStatus Day_of_week   Load_Type  \n",
       "0    Weekday      Monday  Light_Load  \n",
       "1    Weekday      Monday  Light_Load  \n",
       "2    Weekday      Monday  Light_Load  \n",
       "3    Weekday      Monday  Light_Load  \n",
       "4    Weekday      Monday  Light_Load  "
      ]
     },
     "execution_count": 61,
     "metadata": {},
     "output_type": "execute_result"
    }
   ],
   "source": [
    "data = pd.read_csv(\"Steel_industry_data.csv\")\n",
    "print(data.isnull().sum())  # Count of missing values in each column\n",
    "# data['date'] = pd.to_datetime(data['date'])\n",
    "# y_train=data['Usage_kWh'].values\n",
    "data = data.drop(columns=['date'])\n",
    "X_train=data.values\n",
    "\n",
    "data.head()\n"
   ]
  },
  {
   "cell_type": "code",
   "execution_count": 62,
   "metadata": {},
   "outputs": [
    {
     "name": "stdout",
     "output_type": "stream",
     "text": [
      "[[3.17 2.95 0.0 ... 'Weekday' 'Monday' 'Light_Load']\n",
      " [4.0 4.46 0.0 ... 'Weekday' 'Monday' 'Light_Load']\n",
      " [3.24 3.28 0.0 ... 'Weekday' 'Monday' 'Light_Load']\n",
      " ...\n",
      " [3.78 3.17 0.07 ... 'Weekday' 'Monday' 'Light_Load']\n",
      " [3.78 3.06 0.11 ... 'Weekday' 'Monday' 'Light_Load']\n",
      " [3.67 3.02 0.07 ... 'Weekday' 'Monday' 'Light_Load']]\n"
     ]
    }
   ],
   "source": [
    "print(X_train)"
   ]
  },
  {
   "cell_type": "code",
   "execution_count": 63,
   "metadata": {},
   "outputs": [
    {
     "name": "stdout",
     "output_type": "stream",
     "text": [
      "[[3.17 -0.6185163432975694 -0.5213850478056785 ... 'Weekday' 'Monday'\n",
      "  'Light_Load']\n",
      " [4.0 -0.5259110722465691 -0.5213850478056785 ... 'Weekday' 'Monday'\n",
      "  'Light_Load']\n",
      " [3.24 -0.598278105253311 -0.5213850478056785 ... 'Weekday' 'Monday'\n",
      "  'Light_Load']\n",
      " ...\n",
      " [3.78 -0.6050241846013972 -0.5119566216410291 ... 'Weekday' 'Monday'\n",
      "  'Light_Load']\n",
      " [3.78 -0.6117702639494832 -0.5065689495469436 ... 'Weekday' 'Monday'\n",
      "  'Light_Load']\n",
      " [3.67 -0.6142233837124237 -0.5119566216410291 ... 'Weekday' 'Monday'\n",
      "  'Light_Load']]\n"
     ]
    },
    {
     "data": {
      "text/plain": [
       "(35040, 10)"
      ]
     },
     "execution_count": 63,
     "metadata": {},
     "output_type": "execute_result"
    }
   ],
   "source": [
    "scaler = StandardScaler()\n",
    "\n",
    "# Perform scaling and assign it after casting the columns to float\n",
    "X_train[:, 1:7] = scaler.fit_transform(X_train[:, 1:7]).astype('float64')\n",
    "\n",
    "\n",
    "print(X_train)\n",
    "X_train.shape\n",
    "# df=pd.DataFrame(X_train)\n",
    "# df.to_csv('scaled_Steel_industry_data.csv', index=False, header=True)"
   ]
  },
  {
   "cell_type": "code",
   "execution_count": 64,
   "metadata": {},
   "outputs": [
    {
     "name": "stdout",
     "output_type": "stream",
     "text": [
      "[[1.0 0.0 0.0 ... 0.5132676163619359 -1.6780152604563736 'Light_Load']\n",
      " [1.0 0.0 0.0 ... 0.5132676163619359 -1.6419289107691397 'Light_Load']\n",
      " [1.0 0.0 0.0 ... 0.5132676163619359 -1.6058425610819058 'Light_Load']\n",
      " ...\n",
      " [1.0 0.0 0.0 ... 0.5126109334762843 1.6780152604563736 'Light_Load']\n",
      " [1.0 0.0 0.0 ... 0.5119542505906323 1.7141016101436073 'Light_Load']\n",
      " [1.0 0.0 0.0 ... 0.5126109334762843 -1.7141016101436073 'Light_Load']]\n",
      "(35040, 17)\n"
     ]
    }
   ],
   "source": [
    "from sklearn.compose import ColumnTransformer\n",
    "from sklearn.preprocessing import OneHotEncoder\n",
    "ct = ColumnTransformer(transformers=[('encoder',OneHotEncoder(),[7,8])],remainder='passthrough')\n",
    "X_train=ct.fit_transform(X_train)\n",
    "print(X_train)\n",
    "print(X_train.shape)\n",
    "# df=pd.DataFrame(X_train)\n",
    "# df.to_csv('scaled_Steel_industry_data.csv', index=False, header=True)\n"
   ]
  },
  {
   "cell_type": "code",
   "execution_count": 65,
   "metadata": {},
   "outputs": [
    {
     "name": "stdout",
     "output_type": "stream",
     "text": [
      "[[1.0 0.0 0.0 ... 0.5132676163619359 -1.6780152604563736 0]\n",
      " [1.0 0.0 0.0 ... 0.5132676163619359 -1.6419289107691397 0]\n",
      " [1.0 0.0 0.0 ... 0.5132676163619359 -1.6058425610819058 0]\n",
      " ...\n",
      " [1.0 0.0 0.0 ... 0.5126109334762843 1.6780152604563736 0]\n",
      " [1.0 0.0 0.0 ... 0.5119542505906323 1.7141016101436073 0]\n",
      " [1.0 0.0 0.0 ... 0.5126109334762843 -1.7141016101436073 0]]\n"
     ]
    }
   ],
   "source": [
    "from sklearn.preprocessing import LabelEncoder\n",
    "le=LabelEncoder()\n",
    "X_train[:,-1]=le.fit_transform(X_train[:,-1])\n",
    "print(X_train)\n",
    "type(X_train)\n",
    "df=pd.DataFrame(X_train)\n",
    "df.to_csv('scaled_Steel_industry_data.csv', index=False, header=True)"
   ]
  },
  {
   "cell_type": "code",
   "execution_count": 66,
   "metadata": {},
   "outputs": [],
   "source": [
    "# Ensure data_scaled is converted to a NumPy array before splitting\n",
    "node_data = np.array_split(X_train, 8)\n"
   ]
  },
  {
   "cell_type": "code",
   "execution_count": 67,
   "metadata": {},
   "outputs": [],
   "source": [
    "global_model = LinearRegression()"
   ]
  },
  {
   "cell_type": "code",
   "execution_count": 68,
   "metadata": {},
   "outputs": [],
   "source": [
    "# Function to perform Federated Averaging\n",
    "def federated_averaging(models):\n",
    "    \"\"\"Aggregate model weights using the average.\"\"\"\n",
    "    coef_avg = np.mean([model.coef_ for model in models], axis=0)\n",
    "    intercept_avg = np.mean([model.intercept_ for model in models])\n",
    "    return coef_avg, intercept_avg\n",
    "\n",
    "# Function to train the local model on each node's data\n",
    "def train_local_model(data):\n",
    "  \n",
    "    y = data[:, 11]   # Target (Usage_kWh)\n",
    "    # Select all columns except the 12th column using slicing\n",
    "    X = np.concatenate((data[:, :11], data[:, 12:]), axis=1)\n",
    "    model = LinearRegression()\n",
    "    model.fit(X, y)\n",
    "    return model"
   ]
  },
  {
   "cell_type": "code",
   "execution_count": 69,
   "metadata": {},
   "outputs": [
    {
     "name": "stdout",
     "output_type": "stream",
     "text": [
      "Iteration 1:\n",
      "  Node 1 - MSE: 0.0792\n",
      "  Node 2 - MSE: 0.0889\n",
      "  Node 3 - MSE: 0.0827\n",
      "  Node 4 - MSE: 0.0739\n",
      "  Node 5 - MSE: 0.0887\n",
      "  Node 6 - MSE: 0.0345\n",
      "  Node 7 - MSE: 0.0240\n",
      "  Node 8 - MSE: 0.0472\n",
      "Global model updated after iteration 1.\n",
      "\n",
      "Iteration 2:\n",
      "  Node 1 - MSE: 0.0596\n",
      "  Node 2 - MSE: 0.0884\n",
      "  Node 3 - MSE: 0.0852\n",
      "  Node 4 - MSE: 0.0703\n",
      "  Node 5 - MSE: 0.0922\n",
      "  Node 6 - MSE: 0.0261\n",
      "  Node 7 - MSE: 0.0231\n",
      "  Node 8 - MSE: 0.0445\n",
      "Global model updated after iteration 2.\n",
      "\n",
      "Iteration 3:\n",
      "  Node 1 - MSE: 0.0877\n",
      "  Node 2 - MSE: 0.0838\n",
      "  Node 3 - MSE: 0.0790\n",
      "  Node 4 - MSE: 0.0784\n",
      "  Node 5 - MSE: 0.0471\n",
      "  Node 6 - MSE: 0.0336\n",
      "  Node 7 - MSE: 0.0265\n",
      "  Node 8 - MSE: 0.0630\n",
      "Global model updated after iteration 3.\n",
      "\n"
     ]
    }
   ],
   "source": [
    "# Federated Learning Process\n",
    "for iteration in range(3):\n",
    "    print(f\"Iteration {iteration + 1}:\")\n",
    "\n",
    "    # Local models for each node\n",
    "    local_models = []\n",
    "\n",
    "    # Train each node's model using 1460 rows in this iteration\n",
    "    for i, node in enumerate(node_data):\n",
    "        start = iteration * 1460\n",
    "        end = start + 1460\n",
    "        node_subset = node[start:end]\n",
    "\n",
    "        # Train the local model on the subset\n",
    "        local_model = train_local_model(node_subset)\n",
    "        local_models.append(local_model)\n",
    "\n",
    "        # Evaluate the local model\n",
    "        y_pred = local_model.predict(np.concatenate((node_subset[:, :11], node_subset[:, 12:]), axis=1))\n",
    "        mse = mean_squared_error(node_subset[:, 11], y_pred)\n",
    "        print(f\"  Node {i + 1} - MSE: {mse:.4f}\")\n",
    "\n",
    "    # Aggregate the local model updates using Federated Averaging\n",
    "    coef_avg, intercept_avg = federated_averaging(local_models)\n",
    "\n",
    "    # Update the global model with aggregated parameters\n",
    "    global_model.coef_ = coef_avg\n",
    "    global_model.intercept_ = intercept_avg\n",
    "\n",
    "    print(f\"Global model updated after iteration {iteration + 1}.\\n\")\n"
   ]
  },
  {
   "cell_type": "code",
   "execution_count": 70,
   "metadata": {},
   "outputs": [
    {
     "name": "stdout",
     "output_type": "stream",
     "text": [
      "Final Global Model MSE on Test Data: 0.1510\n"
     ]
    }
   ],
   "source": [
    "# Final Evaluation (Optional): Use some test data for evaluation\n",
    "test_data = node_data[0][:1460]  # Example: Using first 1460 rows from node 1 as test data\n",
    "# X_test = test_data[:, 1:]\n",
    "# y_test = test_data[:, 1]\n",
    "test_data\n",
    "\n",
    "y_test = test_data[:, 11]   # Target (Usage_kWh)\n",
    "    # Select all columns except the 12th column using slicing\n",
    "X_test= np.concatenate((test_data[:, :11], test_data[:, 12:]), axis=1)\n",
    "\n",
    "df=pd.DataFrame(y_test)\n",
    "df.to_csv('test_data.csv', index=False, header=True)\n",
    "\n",
    "y_pred = global_model.predict(X_test)\n",
    "final_mse = mean_squared_error(y_test, y_pred)\n",
    "print(f\"Final Global Model MSE on Test Data: {final_mse:.4f}\")"
   ]
  },
  {
   "cell_type": "code",
   "execution_count": 74,
   "metadata": {},
   "outputs": [],
   "source": [
    "output=np.concatenate((y_pred.reshape(-1,1),y_test.reshape(-1,1)),1)\n",
    "type(output)\n",
    "df=pd.DataFrame(output)\n",
    "df.to_csv(\"output.csv\", index=False, header=True)"
   ]
  },
  {
   "cell_type": "code",
   "execution_count": 71,
   "metadata": {},
   "outputs": [
    {
     "name": "stdout",
     "output_type": "stream",
     "text": [
      "0.8983988342396683\n"
     ]
    }
   ],
   "source": [
    "from sklearn.metrics import r2_score\n",
    "r2 = r2_score(y_test, y_pred)\n",
    "print(r2)"
   ]
  },
  {
   "cell_type": "code",
   "execution_count": 75,
   "metadata": {},
   "outputs": [],
   "source": [
    "import matplotlib.pyplot as plt"
   ]
  },
  {
   "cell_type": "code",
   "execution_count": 76,
   "metadata": {},
   "outputs": [
    {
     "data": {
      "image/png": "[encoded data removed]",
      "text/plain": [
       "<Figure size 640x480 with 1 Axes>"
      ]
     },
     "metadata": {},
     "output_type": "display_data"
    }
   ],
   "source": [
    "plt.scatter(y_pred,y_test,color='red')\n",
    "\n",
    "plt.title(\"FL using Linear reg\")\n",
    "plt.xlabel('y_pred')\n",
    "plt.ylabel('y_test')\n",
    "plt.show()"
   ]
  },
  {
   "cell_type": "code",
   "execution_count": null,
   "metadata": {},
   "outputs": [],
   "source": []
  }
 ],
 "metadata": {
  "kernelspec": {
   "display_name": "myenv",
   "language": "python",
   "name": "python3"
  },
  "language_info": {
   "codemirror_mode": {
    "name": "ipython",
    "version": 3
   },
   "file_extension": ".py",
   "mimetype": "text/x-python",
   "name": "python",
   "nbconvert_exporter": "python",
   "pygments_lexer": "ipython3",
   "version": "3.10.12"
  }
 },
 "nbformat": 4,
 "nbformat_minor": 2
}
