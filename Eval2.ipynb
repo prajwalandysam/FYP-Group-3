{
 "cells": [
  {
   "cell_type": "markdown",
   "metadata": {},
   "source": [
    "## Import the Necessary Libraries"
   ]
  },
  {
   "cell_type": "code",
   "execution_count": null,
   "metadata": {},
   "outputs": [],
   "source": [
    "import pandas as pd\n",
    "import numpy as np\n",
    "from sklearn.linear_model import LinearRegression\n",
    "from sklearn.metrics import mean_squared_error\n",
    "from sklearn.preprocessing import StandardScaler\n",
    "import matplotlib.pyplot as plt"
   ]
  },
  {
   "cell_type": "markdown",
   "metadata": {},
   "source": [
    "## Data Preprocessing"
   ]
  },
  {
   "cell_type": "code",
   "execution_count": null,
   "metadata": {},
   "outputs": [],
   "source": [
    "df=data = pd.read_csv(\"Steel_industry_data.csv\")\n",
    "# df = pd.DataFrame(data)\n",
    "\n",
    "# Plot kWh vs Day_of_week\n",
    "df=df[df['Day_of_week'] == 'Monday']\n",
    "df=df.head(25)\n",
    "plt.figure(figsize=(10, 6))\n",
    "# plt.plot(df['Day_of_week'], df['Usage_kWh'], marker='o', linestyle='-', color='b')\n",
    "plt.plot(df['date'], df['Usage_kWh'], marker='o', linestyle='-', color='b')\n",
    "\n",
    "\n",
    "# Set labels and title\n",
    "plt.xlabel('Date')\n",
    "plt.ylabel('kWh')\n",
    "plt.title('kWh vs Monday')\n",
    "\n",
    "# Rotate x-axis labels for better visibility\n",
    "plt.xticks(rotation=45)\n",
    "\n",
    "# Display the plot\n",
    "plt.tight_layout()\n",
    "plt.show()"
   ]
  },
  {
   "cell_type": "code",
   "execution_count": null,
   "metadata": {},
   "outputs": [],
   "source": [
    "df=data = pd.read_csv(\"Steel_industry_data.csv\")\n",
    "df_max_kwh = df.groupby('Day_of_week')['Usage_kWh'].max().reset_index()\n",
    "\n",
    "# Sort by Day_of_week to ensure the days are in the correct order (if needed)\n",
    "days_order = ['Monday', 'Tuesday', 'Wednesday', 'Thursday', 'Friday', 'Saturday', 'Sunday']\n",
    "df_max_kwh['Day_of_week'] = pd.Categorical(df_max_kwh['Day_of_week'], categories=days_order, ordered=True)\n",
    "df_max_kwh = df_max_kwh.sort_values('Day_of_week')\n",
    "\n",
    "# Plot max kWh vs Day_of_week\n",
    "plt.figure(figsize=(10, 6))\n",
    "plt.plot(df_max_kwh['Day_of_week'], df_max_kwh['Usage_kWh'], marker='o', linestyle='-', color='b')\n",
    "\n",
    "# Set labels and title\n",
    "plt.xlabel('Day of the Week')\n",
    "plt.ylabel('Max kWh')\n",
    "plt.title('Max kWh vs Day of the Week')\n",
    "\n",
    "# Rotate x-axis labels for better visibility\n",
    "plt.xticks(rotation=45)\n",
    "\n",
    "# Display the plot\n",
    "plt.tight_layout()\n",
    "plt.show()"
   ]
  },
  {
   "cell_type": "code",
   "execution_count": null,
   "metadata": {},
   "outputs": [],
   "source": [
    "data = pd.read_csv(\"Steel_industry_data.csv\")\n",
    "print(data.isnull().sum())  # Count of missing values in each column\n",
    "datecol=data.iloc[:,0]\n",
    "print(datecol)\n",
    "\n",
    "data = data.drop(columns=['date'])\n",
    "X_train=data.values\n",
    "\n",
    "data.head()\n"
   ]
  },
  {
   "cell_type": "code",
   "execution_count": null,
   "metadata": {},
   "outputs": [],
   "source": [
    "kwh=data.iloc[:,1]\n",
    "# plt.figure(figsize=(10, 6))\n",
    "# plt.plot(datecol, kwh, marker='o', color='b', linestyle='-')\n",
    "# plt.xlabel('Date')\n",
    "# plt.ylabel('kWh')\n",
    "# plt.title('Date vs kWh Consumption')\n",
    "# plt.grid(True)\n",
    "# plt.xticks(rotation=45)  # Rotate dates for better readability\n",
    "# plt.tight_layout()       # Adjust layout for better fit\n",
    "# plt.show()"
   ]
  },
  {
   "cell_type": "code",
   "execution_count": null,
   "metadata": {},
   "outputs": [],
   "source": [
    "print(X_train)\n"
   ]
  },
  {
   "cell_type": "code",
   "execution_count": null,
   "metadata": {},
   "outputs": [],
   "source": [
    "X_train.shape"
   ]
  },
  {
   "cell_type": "markdown",
   "metadata": {},
   "source": [
    "Feature Scaling"
   ]
  },
  {
   "cell_type": "code",
   "execution_count": null,
   "metadata": {},
   "outputs": [],
   "source": [
    "#Feature Scaling\n",
    "scaler = StandardScaler()\n",
    "\n",
    "\n",
    "X_train[:, :7] = scaler.fit_transform(X_train[:, :7]).astype('float64')\n",
    "\n",
    "\n",
    "print(X_train)\n",
    "X_train.shape\n"
   ]
  },
  {
   "cell_type": "code",
   "execution_count": null,
   "metadata": {},
   "outputs": [],
   "source": [
    "X_train"
   ]
  },
  {
   "cell_type": "markdown",
   "metadata": {},
   "source": [
    "Column tranforming and label encoding"
   ]
  },
  {
   "cell_type": "code",
   "execution_count": null,
   "metadata": {},
   "outputs": [],
   "source": [
    "# Transforming Categorical data into number matrix\n",
    "from sklearn.compose import ColumnTransformer\n",
    "from sklearn.preprocessing import OneHotEncoder\n",
    "ct = ColumnTransformer(transformers=[('encoder',OneHotEncoder(),[7,8])],remainder='passthrough')\n",
    "X_train=ct.fit_transform(X_train)\n",
    "print(X_train)\n",
    "print(X_train.shape)\n",
    "\n"
   ]
  },
  {
   "cell_type": "code",
   "execution_count": null,
   "metadata": {},
   "outputs": [],
   "source": [
    "#label encoding on the suitable column\n",
    "from sklearn.preprocessing import LabelEncoder\n",
    "le=LabelEncoder()\n",
    "X_train[:,-1]=le.fit_transform(X_train[:,-1])\n",
    "print(X_train)\n",
    "type(X_train)\n",
    "df=pd.DataFrame(X_train)\n",
    "df.to_csv('scaled_Steel_industry_data.csv', index=False, header=True)"
   ]
  },
  {
   "cell_type": "markdown",
   "metadata": {},
   "source": [
    "## Federated Learning"
   ]
  },
  {
   "cell_type": "code",
   "execution_count": null,
   "metadata": {},
   "outputs": [],
   "source": [
    "#splitting the entire data into 8 nodes to perform FL\n",
    "node_data = np.array_split(X_train, 8)\n"
   ]
  },
  {
   "cell_type": "code",
   "execution_count": null,
   "metadata": {},
   "outputs": [],
   "source": [
    "global_model = LinearRegression() #Global Model\n",
    "global_model.coef_ = np.zeros(17) \n",
    "global_model.intercept_ = 0.0"
   ]
  },
  {
   "cell_type": "markdown",
   "metadata": {},
   "source": [
    "Funtions for calculating and aggregating the local models "
   ]
  },
  {
   "cell_type": "code",
   "execution_count": null,
   "metadata": {},
   "outputs": [],
   "source": [
    "\n",
    "def federated_averaging(models):\n",
    "    \"\"\"Aggregate model weights using the average.\"\"\"\n",
    "    coef_avg = np.mean([model.coef_ for model in models], axis=0)\n",
    "    intercept_avg = np.mean([model.intercept_ for model in models])\n",
    "    return coef_avg, intercept_avg\n",
    "\n",
    "# Function to train the local model on each node's data\n",
    "def train_local_model(data, global_coef, global_intercept):\n",
    "  \n",
    "    y = data[:, 9]   # Target (Usage_kWh)\n",
    "  \n",
    "    X = np.concatenate((data[:, :9], data[:, 10:]), axis=1)\n",
    "    print(X.shape)\n",
    "    model = LinearRegression()\n",
    "    model.coef_ = global_coef  # Set global coefficients\n",
    "    model.intercept_ = global_intercept  # Set global intercept\n",
    "    model.fit(X, y)\n",
    "    return model"
   ]
  },
  {
   "cell_type": "code",
   "execution_count": null,
   "metadata": {},
   "outputs": [],
   "source": [
    "# CallServer\n",
    "#A.CalServer()\n",
    "#C.CalServer()"
   ]
  },
  {
   "cell_type": "markdown",
   "metadata": {},
   "source": [
    "Federated Learning Process"
   ]
  },
  {
   "cell_type": "code",
   "execution_count": null,
   "metadata": {},
   "outputs": [],
   "source": [
    "\n",
    "for iteration in range(3):\n",
    "    print(f\"Iteration {iteration + 1}:\")\n",
    "\n",
    "    # Local models for each node\n",
    "    local_models = []\n",
    "\n",
    "    # Train each node's model using 1460 rows in this iteration\n",
    "    for i, node in enumerate(node_data):\n",
    "        start = 0\n",
    "        end = start + 4380\n",
    "        node_subset = node[start:end]\n",
    "\n",
    "        # Train the local model on the subset\n",
    "        # local_model = train_local_model(node_subset)\n",
    "        local_model = train_local_model(node_subset, global_model.coef_, global_model.intercept_)\n",
    "        local_models.append(local_model)\n",
    "\n",
    "        # Evaluate the local model\n",
    "        y_pred = local_model.predict(np.concatenate((node_subset[:, :9], node_subset[:, 10:]), axis=1))\n",
    "        mse = mean_squared_error(node_subset[:, 9], y_pred)\n",
    "        print(f\"  Node {i + 1} - MSE: {mse:.4f}\")\n",
    "\n",
    "    # Aggregate the local model updates using Federated Averaging\n",
    "    coef_avg, intercept_avg = federated_averaging(local_models)\n",
    "\n",
    "    # Update the global model with aggregated parameters\n",
    "    global_model.coef_ = coef_avg\n",
    "    global_model.intercept_ = intercept_avg\n",
    "\n",
    "    print(f\"Global model updated after iteration {iteration + 1}.\\n\")\n"
   ]
  },
  {
   "cell_type": "markdown",
   "metadata": {},
   "source": [
    "Final Evaluation of our Global model"
   ]
  },
  {
   "cell_type": "code",
   "execution_count": null,
   "metadata": {},
   "outputs": [],
   "source": []
  },
  {
   "cell_type": "code",
   "execution_count": null,
   "metadata": {},
   "outputs": [],
   "source": [
    "# Final Evaluation : Use some test data for evaluation\n",
    "test_data = node_data[0][:4380]  # Example: Using first 1460 rows from node 1 as test data\n",
    "\n",
    "\n",
    "y_test = test_data[:, 9]   # Target (Usage_kWh)\n",
    "    # Select all columns except the 12th column using slicing\n",
    "X_test= np.concatenate((test_data[:, :9], test_data[:, 10:]), axis=1)\n",
    "\n",
    "df=pd.DataFrame(y_test)\n",
    "df.to_csv('test_data.csv', index=False, header=True)\n",
    "\n",
    "y_pred = global_model.predict(X_test)\n",
    "final_mse = mean_squared_error(y_test, y_pred)\n",
    "print(f\"Final Global Model MSE on Test Data: {final_mse:.4f}\")"
   ]
  },
  {
   "cell_type": "markdown",
   "metadata": {},
   "source": [
    "comparing the predicted results vs the actual results"
   ]
  },
  {
   "cell_type": "code",
   "execution_count": null,
   "metadata": {},
   "outputs": [],
   "source": [
    "output=np.concatenate((y_pred.reshape(-1,1),y_test.reshape(-1,1)),1)\n",
    "\n",
    "df=pd.DataFrame(output)\n",
    "df.to_csv(\"output.csv\", index=False, header=True)"
   ]
  },
  {
   "cell_type": "markdown",
   "metadata": {},
   "source": [
    "## R2 Score with FL"
   ]
  },
  {
   "cell_type": "code",
   "execution_count": null,
   "metadata": {},
   "outputs": [],
   "source": [
    "from sklearn.metrics import r2_score\n",
    "r2 = r2_score(y_test, y_pred)\n",
    "print(r2) #With FL"
   ]
  },
  {
   "cell_type": "markdown",
   "metadata": {},
   "source": [
    "## Visualizing the Results (FL)"
   ]
  },
  {
   "cell_type": "code",
   "execution_count": null,
   "metadata": {},
   "outputs": [],
   "source": []
  },
  {
   "cell_type": "code",
   "execution_count": null,
   "metadata": {},
   "outputs": [],
   "source": [
    "# plt.scatter(y_pred,y_test,color='red')\n",
    "\n",
    "# plt.title(\"FL using Linear reg\")\n",
    "# plt.xlabel('y_pred')\n",
    "# plt.ylabel('y_test')\n",
    "# plt.show()"
   ]
  },
  {
   "cell_type": "code",
   "execution_count": null,
   "metadata": {},
   "outputs": [],
   "source": [
    "\n",
    "# # Scatter plot of predictions vs actual values\n",
    "# plt.scatter(y_pred, y_test, color='red')\n",
    "\n",
    "# # Plot y=x line\n",
    "# min_val = min(min(y_pred), min(y_test))\n",
    "# max_val = max(max(y_pred), max(y_test))\n",
    "# plt.plot([min_val, max_val], [min_val, max_val], color='blue', linestyle='--', label='y = x')\n",
    "\n",
    "# # Adding title and labels\n",
    "# plt.title(\"FL using Linear Regression\")\n",
    "# plt.xlabel('y_pred')\n",
    "# plt.ylabel('y_test')\n",
    "# plt.legend()  # Show the legend\n",
    "# plt.show()\n"
   ]
  },
  {
   "cell_type": "code",
   "execution_count": null,
   "metadata": {},
   "outputs": [],
   "source": [
    "import matplotlib.pyplot as plt\n",
    "\n",
    "# Increase figure size for better readability\n",
    "plt.figure(figsize=(10, 8))\n",
    "\n",
    "# Scatter plot with smaller markers and added transparency\n",
    "plt.scatter(y_pred, y_test, color='red', s=10, alpha=0.6)\n",
    "\n",
    "# Plot y=x line with increased thickness for clarity\n",
    "min_val = min(min(y_pred), min(y_test))\n",
    "max_val = max(max(y_pred), max(y_test))\n",
    "plt.plot([min_val, max_val], [min_val, max_val], color='blue', linestyle='--', linewidth=2, label='y = x')\n",
    "\n",
    "# Adding title and labels\n",
    "plt.title(\"FL using Linear Regression\")\n",
    "plt.xlabel('y_pred')\n",
    "plt.ylabel('y_test')\n",
    "plt.legend()  # Show the legend\n",
    "plt.grid(True)  # Add a grid for easier reading\n",
    "\n",
    "# Show the plot\n",
    "plt.show()\n"
   ]
  },
  {
   "cell_type": "markdown",
   "metadata": {},
   "source": [
    "## Comparision of Global model if done Without FL"
   ]
  },
  {
   "cell_type": "code",
   "execution_count": null,
   "metadata": {},
   "outputs": [],
   "source": [
    "regressor=LinearRegression()\n",
    "without_FL=X_train\n",
    "\n",
    "X_withoutFL= np.concatenate((without_FL[:, :9], without_FL[:, 10:]), axis=1)\n",
    "y_withoutFL = without_FL[:, 9]   # Target (Usage_kWh)\n"
   ]
  },
  {
   "cell_type": "code",
   "execution_count": null,
   "metadata": {},
   "outputs": [],
   "source": [
    "from sklearn.model_selection import train_test_split\n",
    "\n",
    "X_withoutFL_train, X_withoutFL_test,y_withoutFL_train,y_withoutFL_test = train_test_split(X_withoutFL,y_withoutFL,test_size=0.25,random_state=0)"
   ]
  },
  {
   "cell_type": "code",
   "execution_count": null,
   "metadata": {},
   "outputs": [],
   "source": [
    "X_withoutFL_test.shape"
   ]
  },
  {
   "cell_type": "code",
   "execution_count": null,
   "metadata": {},
   "outputs": [],
   "source": [
    "X_withoutFL_train.shape"
   ]
  },
  {
   "cell_type": "code",
   "execution_count": null,
   "metadata": {},
   "outputs": [],
   "source": [
    "y_withoutFL_test.shape"
   ]
  },
  {
   "cell_type": "code",
   "execution_count": null,
   "metadata": {},
   "outputs": [],
   "source": [
    "y_withoutFL_train.shape"
   ]
  },
  {
   "cell_type": "code",
   "execution_count": null,
   "metadata": {},
   "outputs": [],
   "source": [
    "regressor.fit(X_withoutFL_train,y_withoutFL_train)"
   ]
  },
  {
   "cell_type": "code",
   "execution_count": null,
   "metadata": {},
   "outputs": [],
   "source": [
    "pred=regressor.predict(X_test)\n",
    "\n",
    "print(pred)"
   ]
  },
  {
   "cell_type": "code",
   "execution_count": null,
   "metadata": {},
   "outputs": [],
   "source": [
    "y_test"
   ]
  },
  {
   "cell_type": "markdown",
   "metadata": {},
   "source": [
    "## Visualising the results (Without FL)"
   ]
  },
  {
   "cell_type": "code",
   "execution_count": null,
   "metadata": {},
   "outputs": [],
   "source": [
    "# plt.scatter(pred,y_test,color='red')\n",
    "\n",
    "# plt.title(\"Training the same dataset without FL (regular LR)\")\n",
    "# plt.xlabel('predicted')\n",
    "# plt.ylabel('actual')\n",
    "# plt.show()"
   ]
  },
  {
   "cell_type": "code",
   "execution_count": null,
   "metadata": {},
   "outputs": [],
   "source": [
    "import matplotlib.pyplot as plt\n",
    "\n",
    "# Increase figure size for better readability\n",
    "plt.figure(figsize=(10, 8))\n",
    "\n",
    "# Scatter plot with smaller markers and added transparency\n",
    "plt.scatter(pred, y_test, color='red', s=10, alpha=0.6)\n",
    "\n",
    "# Plot y=x line with increased thickness for clarity\n",
    "min_val = min(min(pred), min(y_test))\n",
    "max_val = max(max(pred), max(y_test))\n",
    "plt.plot([min_val, max_val], [min_val, max_val], color='blue', linestyle='--', linewidth=2, label='y = x')\n",
    "\n",
    "# Adding title and labels\n",
    "plt.title(\"Linear Regression (Without FL)\")\n",
    "plt.xlabel('pred')\n",
    "plt.ylabel('y_test')\n",
    "plt.legend()  # Show the legend\n",
    "plt.grid(True)  # Add a grid for easier reading\n",
    "\n",
    "# Show the plot\n",
    "plt.show()\n"
   ]
  },
  {
   "cell_type": "code",
   "execution_count": null,
   "metadata": {},
   "outputs": [],
   "source": [
    "\n",
    "# # Scatter plot of predictions vs actual values\n",
    "# plt.scatter(pred, y_test, color='red')\n",
    "\n",
    "# # Plot y=x line\n",
    "# min_val = min(min(pred), min(y_test))\n",
    "# max_val = max(max(pred), max(y_test))\n",
    "# plt.plot([min_val, max_val], [min_val, max_val], color='blue', linestyle='--', label='y = x')\n",
    "\n",
    "# # Adding title and labels\n",
    "# plt.title(\"Training the same dataset without FL (regular LR)\")\n",
    "# plt.xlabel('predicted')\n",
    "# plt.ylabel('actual')\n",
    "# plt.legend()  # Show the legend\n",
    "# plt.show()\n"
   ]
  },
  {
   "cell_type": "code",
   "execution_count": null,
   "metadata": {},
   "outputs": [],
   "source": [
    "pred.shape"
   ]
  },
  {
   "cell_type": "code",
   "execution_count": null,
   "metadata": {},
   "outputs": [],
   "source": [
    "y_test"
   ]
  },
  {
   "cell_type": "code",
   "execution_count": null,
   "metadata": {},
   "outputs": [],
   "source": [
    "pred"
   ]
  },
  {
   "cell_type": "markdown",
   "metadata": {},
   "source": [
    "## R2 score without FL"
   ]
  },
  {
   "cell_type": "code",
   "execution_count": null,
   "metadata": {},
   "outputs": [],
   "source": [
    "from sklearn.metrics import r2_score\n",
    "r2 = r2_score(y_test, pred)\n",
    "print(r2) #Without FL"
   ]
  },
  {
   "cell_type": "code",
   "execution_count": null,
   "metadata": {},
   "outputs": [],
   "source": []
  },
  {
   "cell_type": "code",
   "execution_count": null,
   "metadata": {},
   "outputs": [],
   "source": []
  }
 ],
 "metadata": {
  "kernelspec": {
   "display_name": "myenv",
   "language": "python",
   "name": "python3"
  },
  "language_info": {
   "codemirror_mode": {
    "name": "ipython",
    "version": 3
   },
   "file_extension": ".py",
   "mimetype": "text/x-python",
   "name": "python",
   "nbconvert_exporter": "python",
   "pygments_lexer": "ipython3",
   "version": "3.10.12"
  }
 },
 "nbformat": 4,
 "nbformat_minor": 2
}
