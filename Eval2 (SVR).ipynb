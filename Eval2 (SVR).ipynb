{
 "cells": [
  {
   "cell_type": "code",
   "execution_count": 1,
   "metadata": {},
   "outputs": [],
   "source": [
    "import pandas as pd\n",
    "import numpy as np\n",
    "from sklearn.linear_model import LinearRegression\n",
    "from sklearn.metrics import mean_squared_error\n",
    "from sklearn.preprocessing import StandardScaler\n",
    "from sklearn.svm import SVR"
   ]
  },
  {
   "cell_type": "code",
   "execution_count": 2,
   "metadata": {},
   "outputs": [
    {
     "name": "stdout",
     "output_type": "stream",
     "text": [
      "date                                    0\n",
      "Usage_kWh                               0\n",
      "Lagging_Current_Reactive.Power_kVarh    0\n",
      "Leading_Current_Reactive_Power_kVarh    0\n",
      "CO2(tCO2)                               0\n",
      "Lagging_Current_Power_Factor            0\n",
      "Leading_Current_Power_Factor            0\n",
      "NSM                                     0\n",
      "WeekStatus                              0\n",
      "Day_of_week                             0\n",
      "Load_Type                               0\n",
      "dtype: int64\n"
     ]
    },
    {
     "data": {
      "text/html": [
       "<div>\n",
       "<style scoped>\n",
       "    .dataframe tbody tr th:only-of-type {\n",
       "        vertical-align: middle;\n",
       "    }\n",
       "\n",
       "    .dataframe tbody tr th {\n",
       "        vertical-align: top;\n",
       "    }\n",
       "\n",
       "    .dataframe thead th {\n",
       "        text-align: right;\n",
       "    }\n",
       "</style>\n",
       "<table border=\"1\" class=\"dataframe\">\n",
       "  <thead>\n",
       "    <tr style=\"text-align: right;\">\n",
       "      <th></th>\n",
       "      <th>Usage_kWh</th>\n",
       "      <th>Lagging_Current_Reactive.Power_kVarh</th>\n",
       "      <th>Leading_Current_Reactive_Power_kVarh</th>\n",
       "      <th>CO2(tCO2)</th>\n",
       "      <th>Lagging_Current_Power_Factor</th>\n",
       "      <th>Leading_Current_Power_Factor</th>\n",
       "      <th>NSM</th>\n",
       "      <th>WeekStatus</th>\n",
       "      <th>Day_of_week</th>\n",
       "      <th>Load_Type</th>\n",
       "    </tr>\n",
       "  </thead>\n",
       "  <tbody>\n",
       "    <tr>\n",
       "      <th>0</th>\n",
       "      <td>3.17</td>\n",
       "      <td>2.95</td>\n",
       "      <td>0.0</td>\n",
       "      <td>0.0</td>\n",
       "      <td>73.21</td>\n",
       "      <td>100.0</td>\n",
       "      <td>900</td>\n",
       "      <td>Weekday</td>\n",
       "      <td>Monday</td>\n",
       "      <td>Light_Load</td>\n",
       "    </tr>\n",
       "    <tr>\n",
       "      <th>1</th>\n",
       "      <td>4.00</td>\n",
       "      <td>4.46</td>\n",
       "      <td>0.0</td>\n",
       "      <td>0.0</td>\n",
       "      <td>66.77</td>\n",
       "      <td>100.0</td>\n",
       "      <td>1800</td>\n",
       "      <td>Weekday</td>\n",
       "      <td>Monday</td>\n",
       "      <td>Light_Load</td>\n",
       "    </tr>\n",
       "    <tr>\n",
       "      <th>2</th>\n",
       "      <td>3.24</td>\n",
       "      <td>3.28</td>\n",
       "      <td>0.0</td>\n",
       "      <td>0.0</td>\n",
       "      <td>70.28</td>\n",
       "      <td>100.0</td>\n",
       "      <td>2700</td>\n",
       "      <td>Weekday</td>\n",
       "      <td>Monday</td>\n",
       "      <td>Light_Load</td>\n",
       "    </tr>\n",
       "    <tr>\n",
       "      <th>3</th>\n",
       "      <td>3.31</td>\n",
       "      <td>3.56</td>\n",
       "      <td>0.0</td>\n",
       "      <td>0.0</td>\n",
       "      <td>68.09</td>\n",
       "      <td>100.0</td>\n",
       "      <td>3600</td>\n",
       "      <td>Weekday</td>\n",
       "      <td>Monday</td>\n",
       "      <td>Light_Load</td>\n",
       "    </tr>\n",
       "    <tr>\n",
       "      <th>4</th>\n",
       "      <td>3.82</td>\n",
       "      <td>4.50</td>\n",
       "      <td>0.0</td>\n",
       "      <td>0.0</td>\n",
       "      <td>64.72</td>\n",
       "      <td>100.0</td>\n",
       "      <td>4500</td>\n",
       "      <td>Weekday</td>\n",
       "      <td>Monday</td>\n",
       "      <td>Light_Load</td>\n",
       "    </tr>\n",
       "  </tbody>\n",
       "</table>\n",
       "</div>"
      ],
      "text/plain": [
       "   Usage_kWh  Lagging_Current_Reactive.Power_kVarh  \\\n",
       "0       3.17                                  2.95   \n",
       "1       4.00                                  4.46   \n",
       "2       3.24                                  3.28   \n",
       "3       3.31                                  3.56   \n",
       "4       3.82                                  4.50   \n",
       "\n",
       "   Leading_Current_Reactive_Power_kVarh  CO2(tCO2)  \\\n",
       "0                                   0.0        0.0   \n",
       "1                                   0.0        0.0   \n",
       "2                                   0.0        0.0   \n",
       "3                                   0.0        0.0   \n",
       "4                                   0.0        0.0   \n",
       "\n",
       "   Lagging_Current_Power_Factor  Leading_Current_Power_Factor   NSM  \\\n",
       "0                         73.21                         100.0   900   \n",
       "1                         66.77                         100.0  1800   \n",
       "2                         70.28                         100.0  2700   \n",
       "3                         68.09                         100.0  3600   \n",
       "4                         64.72                         100.0  4500   \n",
       "\n",
       "  WeekStatus Day_of_week   Load_Type  \n",
       "0    Weekday      Monday  Light_Load  \n",
       "1    Weekday      Monday  Light_Load  \n",
       "2    Weekday      Monday  Light_Load  \n",
       "3    Weekday      Monday  Light_Load  \n",
       "4    Weekday      Monday  Light_Load  "
      ]
     },
     "execution_count": 2,
     "metadata": {},
     "output_type": "execute_result"
    }
   ],
   "source": [
    "data = pd.read_csv(\"Steel_industry_data.csv\")\n",
    "print(data.isnull().sum())  # Count of missing values in each column\n",
    "# data['date'] = pd.to_datetime(data['date'])\n",
    "# y_train=data['Usage_kWh'].values\n",
    "data = data.drop(columns=['date'])\n",
    "X_train=data.values\n",
    "\n",
    "data.head()\n"
   ]
  },
  {
   "cell_type": "code",
   "execution_count": 3,
   "metadata": {},
   "outputs": [
    {
     "name": "stdout",
     "output_type": "stream",
     "text": [
      "[[3.17 2.95 0.0 ... 'Weekday' 'Monday' 'Light_Load']\n",
      " [4.0 4.46 0.0 ... 'Weekday' 'Monday' 'Light_Load']\n",
      " [3.24 3.28 0.0 ... 'Weekday' 'Monday' 'Light_Load']\n",
      " ...\n",
      " [3.78 3.17 0.07 ... 'Weekday' 'Monday' 'Light_Load']\n",
      " [3.78 3.06 0.11 ... 'Weekday' 'Monday' 'Light_Load']\n",
      " [3.67 3.02 0.07 ... 'Weekday' 'Monday' 'Light_Load']]\n"
     ]
    }
   ],
   "source": [
    "print(X_train)"
   ]
  },
  {
   "cell_type": "code",
   "execution_count": 4,
   "metadata": {},
   "outputs": [
    {
     "name": "stdout",
     "output_type": "stream",
     "text": [
      "[[3.17 -0.6185163432975694 -0.5213850478056785 ... 'Weekday' 'Monday'\n",
      "  'Light_Load']\n",
      " [4.0 -0.5259110722465691 -0.5213850478056785 ... 'Weekday' 'Monday'\n",
      "  'Light_Load']\n",
      " [3.24 -0.598278105253311 -0.5213850478056785 ... 'Weekday' 'Monday'\n",
      "  'Light_Load']\n",
      " ...\n",
      " [3.78 -0.6050241846013972 -0.5119566216410291 ... 'Weekday' 'Monday'\n",
      "  'Light_Load']\n",
      " [3.78 -0.6117702639494832 -0.5065689495469436 ... 'Weekday' 'Monday'\n",
      "  'Light_Load']\n",
      " [3.67 -0.6142233837124237 -0.5119566216410291 ... 'Weekday' 'Monday'\n",
      "  'Light_Load']]\n"
     ]
    },
    {
     "data": {
      "text/plain": [
       "(35040, 10)"
      ]
     },
     "execution_count": 4,
     "metadata": {},
     "output_type": "execute_result"
    }
   ],
   "source": [
    "scaler = StandardScaler()\n",
    "\n",
    "# Perform scaling and assign it after casting the columns to float\n",
    "X_train[:, 1:7] = scaler.fit_transform(X_train[:, 1:7]).astype('float64')\n",
    "\n",
    "\n",
    "print(X_train)\n",
    "X_train.shape\n",
    "# df=pd.DataFrame(X_train)\n",
    "# df.to_csv('scaled_Steel_industry_data.csv', index=False, header=True)"
   ]
  },
  {
   "cell_type": "code",
   "execution_count": 5,
   "metadata": {},
   "outputs": [
    {
     "name": "stdout",
     "output_type": "stream",
     "text": [
      "[[1.0 0.0 0.0 ... 0.5132676163619359 -1.6780152604563736 'Light_Load']\n",
      " [1.0 0.0 0.0 ... 0.5132676163619359 -1.6419289107691397 'Light_Load']\n",
      " [1.0 0.0 0.0 ... 0.5132676163619359 -1.6058425610819058 'Light_Load']\n",
      " ...\n",
      " [1.0 0.0 0.0 ... 0.5126109334762843 1.6780152604563736 'Light_Load']\n",
      " [1.0 0.0 0.0 ... 0.5119542505906323 1.7141016101436073 'Light_Load']\n",
      " [1.0 0.0 0.0 ... 0.5126109334762843 -1.7141016101436073 'Light_Load']]\n",
      "(35040, 17)\n"
     ]
    }
   ],
   "source": [
    "from sklearn.compose import ColumnTransformer\n",
    "from sklearn.preprocessing import OneHotEncoder\n",
    "ct = ColumnTransformer(transformers=[('encoder',OneHotEncoder(),[7,8])],remainder='passthrough')\n",
    "X_train=ct.fit_transform(X_train)\n",
    "print(X_train)\n",
    "print(X_train.shape)\n",
    "# df=pd.DataFrame(X_train)\n",
    "# df.to_csv('scaled_Steel_industry_data.csv', index=False, header=True)\n"
   ]
  },
  {
   "cell_type": "code",
   "execution_count": 6,
   "metadata": {},
   "outputs": [
    {
     "name": "stdout",
     "output_type": "stream",
     "text": [
      "[[1.0 0.0 0.0 ... 0.5132676163619359 -1.6780152604563736 0]\n",
      " [1.0 0.0 0.0 ... 0.5132676163619359 -1.6419289107691397 0]\n",
      " [1.0 0.0 0.0 ... 0.5132676163619359 -1.6058425610819058 0]\n",
      " ...\n",
      " [1.0 0.0 0.0 ... 0.5126109334762843 1.6780152604563736 0]\n",
      " [1.0 0.0 0.0 ... 0.5119542505906323 1.7141016101436073 0]\n",
      " [1.0 0.0 0.0 ... 0.5126109334762843 -1.7141016101436073 0]]\n"
     ]
    }
   ],
   "source": [
    "from sklearn.preprocessing import LabelEncoder\n",
    "le=LabelEncoder()\n",
    "X_train[:,-1]=le.fit_transform(X_train[:,-1])\n",
    "print(X_train)\n",
    "type(X_train)\n",
    "df=pd.DataFrame(X_train)\n",
    "df.to_csv('scaled_Steel_industry_data.csv', index=False, header=True)"
   ]
  },
  {
   "cell_type": "code",
   "execution_count": 7,
   "metadata": {},
   "outputs": [],
   "source": [
    "# Ensure data_scaled is converted to a NumPy array before splitting\n",
    "node_data = np.array_split(X_train, 8)\n"
   ]
  },
  {
   "cell_type": "markdown",
   "metadata": {},
   "source": [
    "## SVR Implementation\n"
   ]
  },
  {
   "cell_type": "code",
   "execution_count": 8,
   "metadata": {},
   "outputs": [
    {
     "name": "stdout",
     "output_type": "stream",
     "text": [
      "Iteration 1:\n",
      "  Node 1 - MSE: 0.3363\n",
      "  Node 2 - MSE: 0.1602\n",
      "  Node 3 - MSE: 0.1396\n",
      "  Node 4 - MSE: 0.1053\n",
      "  Node 5 - MSE: 0.1872\n",
      "  Node 6 - MSE: 0.0412\n",
      "  Node 7 - MSE: 0.0419\n",
      "  Node 8 - MSE: 0.1017\n",
      "Global model updated after iteration 1.\n",
      "\n",
      "Iteration 2:\n",
      "  Node 1 - MSE: 0.5122\n",
      "  Node 2 - MSE: 0.2017\n",
      "  Node 3 - MSE: 0.1401\n",
      "  Node 4 - MSE: 0.0777\n",
      "  Node 5 - MSE: 0.1319\n",
      "  Node 6 - MSE: 0.0424\n",
      "  Node 7 - MSE: 0.0409\n",
      "  Node 8 - MSE: 0.0454\n",
      "Global model updated after iteration 2.\n",
      "\n",
      "Iteration 3:\n",
      "  Node 1 - MSE: 0.3128\n",
      "  Node 2 - MSE: 0.1106\n",
      "  Node 3 - MSE: 0.1305\n",
      "  Node 4 - MSE: 0.0900\n",
      "  Node 5 - MSE: 0.0613\n",
      "  Node 6 - MSE: 0.0357\n",
      "  Node 7 - MSE: 0.0520\n",
      "  Node 8 - MSE: 0.0579\n",
      "Global model updated after iteration 3.\n",
      "\n"
     ]
    },
    {
     "ename": "ValueError",
     "evalue": "X has 17 features, but SVR is expecting 16 features as input.",
     "output_type": "error",
     "traceback": [
      "\u001b[0;31m---------------------------------------------------------------------------\u001b[0m",
      "\u001b[0;31mValueError\u001b[0m                                Traceback (most recent call last)",
      "Cell \u001b[0;32mIn[8], line 66\u001b[0m\n\u001b[1;32m     63\u001b[0m     \u001b[38;5;28mprint\u001b[39m(\u001b[38;5;124mf\u001b[39m\u001b[38;5;124m\"\u001b[39m\u001b[38;5;124mGlobal model updated after iteration \u001b[39m\u001b[38;5;132;01m{\u001b[39;00miteration\u001b[38;5;250m \u001b[39m\u001b[38;5;241m+\u001b[39m\u001b[38;5;250m \u001b[39m\u001b[38;5;241m1\u001b[39m\u001b[38;5;132;01m}\u001b[39;00m\u001b[38;5;124m.\u001b[39m\u001b[38;5;130;01m\\n\u001b[39;00m\u001b[38;5;124m\"\u001b[39m)\n\u001b[1;32m     65\u001b[0m \u001b[38;5;66;03m# Evaluate final global model\u001b[39;00m\n\u001b[0;32m---> 66\u001b[0m y_pred \u001b[38;5;241m=\u001b[39m \u001b[43mglobal_model\u001b[49m\u001b[38;5;241;43m.\u001b[39;49m\u001b[43mpredict\u001b[49m\u001b[43m(\u001b[49m\u001b[43mX_train\u001b[49m\u001b[43m)\u001b[49m\n\u001b[1;32m     67\u001b[0m final_mse \u001b[38;5;241m=\u001b[39m mean_squared_error(y_train, y_pred)\n\u001b[1;32m     68\u001b[0m \u001b[38;5;28mprint\u001b[39m(\u001b[38;5;124mf\u001b[39m\u001b[38;5;124m\"\u001b[39m\u001b[38;5;124mFinal Global Model MSE on Test Data: \u001b[39m\u001b[38;5;132;01m{\u001b[39;00mfinal_mse\u001b[38;5;132;01m:\u001b[39;00m\u001b[38;5;124m.4f\u001b[39m\u001b[38;5;132;01m}\u001b[39;00m\u001b[38;5;124m\"\u001b[39m)\n",
      "File \u001b[0;32m/media/prajwalsam/WORK/Prajwal sam documents/FYP-Group-3/myenv/lib/python3.10/site-packages/sklearn/svm/_base.py:428\u001b[0m, in \u001b[0;36mBaseLibSVM.predict\u001b[0;34m(self, X)\u001b[0m\n\u001b[1;32m    412\u001b[0m \u001b[38;5;28;01mdef\u001b[39;00m \u001b[38;5;21mpredict\u001b[39m(\u001b[38;5;28mself\u001b[39m, X):\n\u001b[1;32m    413\u001b[0m \u001b[38;5;250m    \u001b[39m\u001b[38;5;124;03m\"\"\"Perform regression on samples in X.\u001b[39;00m\n\u001b[1;32m    414\u001b[0m \n\u001b[1;32m    415\u001b[0m \u001b[38;5;124;03m    For an one-class model, +1 (inlier) or -1 (outlier) is returned.\u001b[39;00m\n\u001b[0;32m   (...)\u001b[0m\n\u001b[1;32m    426\u001b[0m \u001b[38;5;124;03m        The predicted values.\u001b[39;00m\n\u001b[1;32m    427\u001b[0m \u001b[38;5;124;03m    \"\"\"\u001b[39;00m\n\u001b[0;32m--> 428\u001b[0m     X \u001b[38;5;241m=\u001b[39m \u001b[38;5;28;43mself\u001b[39;49m\u001b[38;5;241;43m.\u001b[39;49m\u001b[43m_validate_for_predict\u001b[49m\u001b[43m(\u001b[49m\u001b[43mX\u001b[49m\u001b[43m)\u001b[49m\n\u001b[1;32m    429\u001b[0m     predict \u001b[38;5;241m=\u001b[39m \u001b[38;5;28mself\u001b[39m\u001b[38;5;241m.\u001b[39m_sparse_predict \u001b[38;5;28;01mif\u001b[39;00m \u001b[38;5;28mself\u001b[39m\u001b[38;5;241m.\u001b[39m_sparse \u001b[38;5;28;01melse\u001b[39;00m \u001b[38;5;28mself\u001b[39m\u001b[38;5;241m.\u001b[39m_dense_predict\n\u001b[1;32m    430\u001b[0m     \u001b[38;5;28;01mreturn\u001b[39;00m predict(X)\n",
      "File \u001b[0;32m/media/prajwalsam/WORK/Prajwal sam documents/FYP-Group-3/myenv/lib/python3.10/site-packages/sklearn/svm/_base.py:606\u001b[0m, in \u001b[0;36mBaseLibSVM._validate_for_predict\u001b[0;34m(self, X)\u001b[0m\n\u001b[1;32m    603\u001b[0m check_is_fitted(\u001b[38;5;28mself\u001b[39m)\n\u001b[1;32m    605\u001b[0m \u001b[38;5;28;01mif\u001b[39;00m \u001b[38;5;129;01mnot\u001b[39;00m \u001b[38;5;28mcallable\u001b[39m(\u001b[38;5;28mself\u001b[39m\u001b[38;5;241m.\u001b[39mkernel):\n\u001b[0;32m--> 606\u001b[0m     X \u001b[38;5;241m=\u001b[39m \u001b[38;5;28;43mself\u001b[39;49m\u001b[38;5;241;43m.\u001b[39;49m\u001b[43m_validate_data\u001b[49m\u001b[43m(\u001b[49m\n\u001b[1;32m    607\u001b[0m \u001b[43m        \u001b[49m\u001b[43mX\u001b[49m\u001b[43m,\u001b[49m\n\u001b[1;32m    608\u001b[0m \u001b[43m        \u001b[49m\u001b[43maccept_sparse\u001b[49m\u001b[38;5;241;43m=\u001b[39;49m\u001b[38;5;124;43m\"\u001b[39;49m\u001b[38;5;124;43mcsr\u001b[39;49m\u001b[38;5;124;43m\"\u001b[39;49m\u001b[43m,\u001b[49m\n\u001b[1;32m    609\u001b[0m \u001b[43m        \u001b[49m\u001b[43mdtype\u001b[49m\u001b[38;5;241;43m=\u001b[39;49m\u001b[43mnp\u001b[49m\u001b[38;5;241;43m.\u001b[39;49m\u001b[43mfloat64\u001b[49m\u001b[43m,\u001b[49m\n\u001b[1;32m    610\u001b[0m \u001b[43m        \u001b[49m\u001b[43morder\u001b[49m\u001b[38;5;241;43m=\u001b[39;49m\u001b[38;5;124;43m\"\u001b[39;49m\u001b[38;5;124;43mC\u001b[39;49m\u001b[38;5;124;43m\"\u001b[39;49m\u001b[43m,\u001b[49m\n\u001b[1;32m    611\u001b[0m \u001b[43m        \u001b[49m\u001b[43maccept_large_sparse\u001b[49m\u001b[38;5;241;43m=\u001b[39;49m\u001b[38;5;28;43;01mFalse\u001b[39;49;00m\u001b[43m,\u001b[49m\n\u001b[1;32m    612\u001b[0m \u001b[43m        \u001b[49m\u001b[43mreset\u001b[49m\u001b[38;5;241;43m=\u001b[39;49m\u001b[38;5;28;43;01mFalse\u001b[39;49;00m\u001b[43m,\u001b[49m\n\u001b[1;32m    613\u001b[0m \u001b[43m    \u001b[49m\u001b[43m)\u001b[49m\n\u001b[1;32m    615\u001b[0m \u001b[38;5;28;01mif\u001b[39;00m \u001b[38;5;28mself\u001b[39m\u001b[38;5;241m.\u001b[39m_sparse \u001b[38;5;129;01mand\u001b[39;00m \u001b[38;5;129;01mnot\u001b[39;00m sp\u001b[38;5;241m.\u001b[39missparse(X):\n\u001b[1;32m    616\u001b[0m     X \u001b[38;5;241m=\u001b[39m sp\u001b[38;5;241m.\u001b[39mcsr_matrix(X)\n",
      "File \u001b[0;32m/media/prajwalsam/WORK/Prajwal sam documents/FYP-Group-3/myenv/lib/python3.10/site-packages/sklearn/base.py:654\u001b[0m, in \u001b[0;36mBaseEstimator._validate_data\u001b[0;34m(self, X, y, reset, validate_separately, cast_to_ndarray, **check_params)\u001b[0m\n\u001b[1;32m    651\u001b[0m     out \u001b[38;5;241m=\u001b[39m X, y\n\u001b[1;32m    653\u001b[0m \u001b[38;5;28;01mif\u001b[39;00m \u001b[38;5;129;01mnot\u001b[39;00m no_val_X \u001b[38;5;129;01mand\u001b[39;00m check_params\u001b[38;5;241m.\u001b[39mget(\u001b[38;5;124m\"\u001b[39m\u001b[38;5;124mensure_2d\u001b[39m\u001b[38;5;124m\"\u001b[39m, \u001b[38;5;28;01mTrue\u001b[39;00m):\n\u001b[0;32m--> 654\u001b[0m     \u001b[38;5;28;43mself\u001b[39;49m\u001b[38;5;241;43m.\u001b[39;49m\u001b[43m_check_n_features\u001b[49m\u001b[43m(\u001b[49m\u001b[43mX\u001b[49m\u001b[43m,\u001b[49m\u001b[43m \u001b[49m\u001b[43mreset\u001b[49m\u001b[38;5;241;43m=\u001b[39;49m\u001b[43mreset\u001b[49m\u001b[43m)\u001b[49m\n\u001b[1;32m    656\u001b[0m \u001b[38;5;28;01mreturn\u001b[39;00m out\n",
      "File \u001b[0;32m/media/prajwalsam/WORK/Prajwal sam documents/FYP-Group-3/myenv/lib/python3.10/site-packages/sklearn/base.py:443\u001b[0m, in \u001b[0;36mBaseEstimator._check_n_features\u001b[0;34m(self, X, reset)\u001b[0m\n\u001b[1;32m    440\u001b[0m     \u001b[38;5;28;01mreturn\u001b[39;00m\n\u001b[1;32m    442\u001b[0m \u001b[38;5;28;01mif\u001b[39;00m n_features \u001b[38;5;241m!=\u001b[39m \u001b[38;5;28mself\u001b[39m\u001b[38;5;241m.\u001b[39mn_features_in_:\n\u001b[0;32m--> 443\u001b[0m     \u001b[38;5;28;01mraise\u001b[39;00m \u001b[38;5;167;01mValueError\u001b[39;00m(\n\u001b[1;32m    444\u001b[0m         \u001b[38;5;124mf\u001b[39m\u001b[38;5;124m\"\u001b[39m\u001b[38;5;124mX has \u001b[39m\u001b[38;5;132;01m{\u001b[39;00mn_features\u001b[38;5;132;01m}\u001b[39;00m\u001b[38;5;124m features, but \u001b[39m\u001b[38;5;132;01m{\u001b[39;00m\u001b[38;5;28mself\u001b[39m\u001b[38;5;241m.\u001b[39m\u001b[38;5;18m__class__\u001b[39m\u001b[38;5;241m.\u001b[39m\u001b[38;5;18m__name__\u001b[39m\u001b[38;5;132;01m}\u001b[39;00m\u001b[38;5;124m \u001b[39m\u001b[38;5;124m\"\u001b[39m\n\u001b[1;32m    445\u001b[0m         \u001b[38;5;124mf\u001b[39m\u001b[38;5;124m\"\u001b[39m\u001b[38;5;124mis expecting \u001b[39m\u001b[38;5;132;01m{\u001b[39;00m\u001b[38;5;28mself\u001b[39m\u001b[38;5;241m.\u001b[39mn_features_in_\u001b[38;5;132;01m}\u001b[39;00m\u001b[38;5;124m features as input.\u001b[39m\u001b[38;5;124m\"\u001b[39m\n\u001b[1;32m    446\u001b[0m     )\n",
      "\u001b[0;31mValueError\u001b[0m: X has 17 features, but SVR is expecting 16 features as input."
     ]
    }
   ],
   "source": [
    "\n",
    "\n",
    "# Function to perform Federated Averaging for SVR models\n",
    "def federated_averaging(models):\n",
    "    \"\"\"Aggregate SVR model weights using the average.\"\"\"\n",
    "    # Aggregate intercepts\n",
    "    intercept_avg = np.mean([model.intercept_ for model in models])\n",
    "\n",
    "    # Collect and stack support vectors and dual coefficients\n",
    "    support_vectors = np.vstack([model.support_vectors_ for model in models])\n",
    "    dual_coefs = np.hstack([model.dual_coef_.ravel() for model in models])  # Flatten for consistency\n",
    "\n",
    "    # Ensure support vectors and dual coefficients match in size\n",
    "    min_size = min(support_vectors.shape[0], dual_coefs.shape[0])\n",
    "    support_vectors = support_vectors[:min_size]\n",
    "    dual_coefs = dual_coefs[:min_size]\n",
    "\n",
    "    # Normalize dual coefficients\n",
    "    dual_coefs_avg = dual_coefs / len(models)\n",
    "\n",
    "    return support_vectors, dual_coefs_avg, intercept_avg\n",
    "\n",
    "# Function to train the local SVR model on each node's data\n",
    "def train_local_model(data):\n",
    "    \"\"\"Train the local SVR model.\"\"\"\n",
    "    y = data[:, 11]  # Target (Usage_kWh)\n",
    "    X = np.concatenate((data[:, :11], data[:, 12:]), axis=1)  # Features\n",
    "\n",
    "    # Initialize and train SVR model\n",
    "    model = SVR(kernel='rbf')\n",
    "    model.fit(X, y)\n",
    "    return model\n",
    "\n",
    "# Federated Learning Process\n",
    "global_model = SVR(kernel='rbf')\n",
    "\n",
    "for iteration in range(3):\n",
    "    print(f\"Iteration {iteration + 1}:\")\n",
    "\n",
    "    local_models = []\n",
    "\n",
    "    # Train local models for each node\n",
    "    for i, node in enumerate(node_data):\n",
    "        start = iteration * 1460\n",
    "        end = start + 1460\n",
    "        node_subset = node[start:end]\n",
    "\n",
    "        local_model = train_local_model(node_subset)\n",
    "        local_models.append(local_model)\n",
    "\n",
    "        # Evaluate local model\n",
    "        X_eval = np.concatenate((node_subset[:, :11], node_subset[:, 12:]), axis=1)\n",
    "        y_eval = node_subset[:, 11]\n",
    "        y_pred = local_model.predict(X_eval)\n",
    "        mse = mean_squared_error(y_eval, y_pred)\n",
    "        print(f\"  Node {i + 1} - MSE: {mse:.4f}\")\n",
    "\n",
    "    # Aggregate local model updates\n",
    "    support_vectors, dual_coefs_avg, intercept_avg = federated_averaging(local_models)\n",
    "\n",
    "    # Re-train global model using aggregated data\n",
    "    global_model.fit(support_vectors, dual_coefs_avg)  # Fit with matching sizes\n",
    "    global_model.intercept_ = intercept_avg\n",
    "\n",
    "    print(f\"Global model updated after iteration {iteration + 1}.\\n\")\n",
    "\n",
    "# Evaluate final global model\n",
    "y_pred = global_model.predict(X_train)\n",
    "final_mse = mean_squared_error(y_train, y_pred)\n",
    "print(f\"Final Global Model MSE on Test Data: {final_mse:.4f}\")\n"
   ]
  },
  {
   "cell_type": "markdown",
   "metadata": {},
   "source": [
    "## FL using SVR"
   ]
  },
  {
   "cell_type": "code",
   "execution_count": null,
   "metadata": {},
   "outputs": [],
   "source": [
    "# Initialize the global SVR model\n",
    "global_model = SVR(kernel='rbf')\n",
    "\n",
    "for iteration in range(3):\n",
    "    print(f\"Iteration {iteration + 1}:\")\n",
    "\n",
    "    local_models = []\n",
    "\n",
    "    # Train each node's local model on a subset of 1460 rows\n",
    "    for i, node in enumerate(node_data):\n",
    "        start = iteration * 1460\n",
    "        end = start + 1460\n",
    "        node_subset = node[start:end]\n",
    "\n",
    "        # Train the local SVR model\n",
    "        local_model = train_local_model(node_subset)\n",
    "        local_models.append(local_model)\n",
    "\n",
    "        # Evaluate the local model\n",
    "        X_eval = np.concatenate((node_subset[:, :11], node_subset[:, 12:]), axis=1)\n",
    "        y_eval = node_subset[:, 11]\n",
    "        y_pred = local_model.predict(X_eval)\n",
    "        mse = mean_squared_error(y_eval, y_pred)\n",
    "        print(f\"  Node {i + 1} - MSE: {mse:.4f}\")\n",
    "\n",
    "    # Aggregate local model updates using Federated Averaging\n",
    "    support_vectors, dual_coefs_avg, intercept_avg = federated_averaging(local_models)\n",
    "\n",
    "    # Re-train the global model using aggregated data\n",
    "    global_model.fit(support_vectors, dual_coefs_avg[0])  # Fit with aggregated data\n",
    "    global_model.intercept_ = intercept_avg  # Set the aggregated intercept\n",
    "\n",
    "    print(f\"Global model updated after iteration {iteration + 1}.\\n\")\n",
    "\n",
    "# Final evaluation on the test dataset\n",
    "y_pred = global_model.predict(X_test)\n",
    "final_mse = mean_squared_error(y_test, y_pred)\n",
    "print(f\"Final Global Model MSE on Test Data: {final_mse:.4f}\")\n"
   ]
  },
  {
   "cell_type": "code",
   "execution_count": null,
   "metadata": {},
   "outputs": [],
   "source": [
    "# Final Evaluation (Optional): Use some test data for evaluation\n",
    "test_data = node_data[0][:1460]  # Example: Using first 1460 rows from node 1 as test data\n",
    "# X_test = test_data[:, 1:]\n",
    "# y_test = test_data[:, 1]\n",
    "test_data\n",
    "\n",
    "y_test = test_data[:, 11]   # Target (Usage_kWh)\n",
    "    # Select all columns except the 12th column using slicing\n",
    "X_test= np.concatenate((test_data[:, :11], test_data[:, 12:]), axis=1)\n",
    "\n",
    "df=pd.DataFrame(y_test)\n",
    "df.to_csv('test_data.csv', index=False, header=True)\n",
    "\n",
    "y_pred = global_model.predict(X_test)\n",
    "final_mse = mean_squared_error(y_test, y_pred)\n",
    "print(f\"Final Global Model MSE on Test Data: {final_mse:.4f}\")"
   ]
  },
  {
   "cell_type": "code",
   "execution_count": 13,
   "metadata": {},
   "outputs": [],
   "source": [
    "output=np.concatenate((y_pred.reshape(-1,1),y_test.reshape(-1,1)),1)\n",
    "type(output)\n",
    "df=pd.DataFrame(output)\n",
    "df.to_csv(\"output.csv\", index=False, header=True)"
   ]
  },
  {
   "cell_type": "code",
   "execution_count": null,
   "metadata": {},
   "outputs": [],
   "source": [
    "from sklearn.metrics import r2_score\n",
    "r2 = r2_score(y_test, y_pred)\n",
    "print(r2)\n",
    "#0.8983988342396683 for Linear Reg\n"
   ]
  },
  {
   "cell_type": "code",
   "execution_count": 15,
   "metadata": {},
   "outputs": [],
   "source": [
    "import matplotlib.pyplot as plt"
   ]
  },
  {
   "cell_type": "code",
   "execution_count": null,
   "metadata": {},
   "outputs": [],
   "source": []
  },
  {
   "cell_type": "code",
   "execution_count": null,
   "metadata": {},
   "outputs": [],
   "source": [
    "plt.scatter(y_pred,y_test,color='red')\n",
    "\n",
    "plt.title(\"FL using Linear reg\")\n",
    "plt.xlabel('y_pred')\n",
    "plt.ylabel('y_test')\n",
    "plt.show()"
   ]
  },
  {
   "cell_type": "markdown",
   "metadata": {},
   "source": [
    "## Without FL"
   ]
  },
  {
   "cell_type": "code",
   "execution_count": 30,
   "metadata": {},
   "outputs": [],
   "source": [
    "\n",
    "without_FL=X_train\n",
    "\n",
    "X_withoutFL= np.concatenate((without_FL[:, :11], without_FL[:, 12:]), axis=1)\n",
    "y_withoutFL = without_FL[:, 11]   # Target (Usage_kWh)\n"
   ]
  },
  {
   "cell_type": "code",
   "execution_count": 31,
   "metadata": {},
   "outputs": [],
   "source": [
    "from sklearn.model_selection import train_test_split\n",
    "\n",
    "X_withoutFL_train, X_withoutFL_test,y_withoutFL_train,y_withoutFL_test = train_test_split(X_withoutFL,y_withoutFL,test_size=0.25,random_state=0)"
   ]
  },
  {
   "cell_type": "code",
   "execution_count": null,
   "metadata": {},
   "outputs": [],
   "source": [
    "X_withoutFL_test.shape"
   ]
  },
  {
   "cell_type": "code",
   "execution_count": null,
   "metadata": {},
   "outputs": [],
   "source": [
    "X_withoutFL_train.shape"
   ]
  },
  {
   "cell_type": "code",
   "execution_count": null,
   "metadata": {},
   "outputs": [],
   "source": [
    "y_withoutFL_test.shape"
   ]
  },
  {
   "cell_type": "code",
   "execution_count": null,
   "metadata": {},
   "outputs": [],
   "source": [
    "y_withoutFL_train.shape"
   ]
  },
  {
   "cell_type": "code",
   "execution_count": 36,
   "metadata": {},
   "outputs": [],
   "source": [
    "#SVR\n",
    "SVRregressor = SVR(kernel='rbf')"
   ]
  },
  {
   "cell_type": "code",
   "execution_count": null,
   "metadata": {},
   "outputs": [],
   "source": [
    "# regressor.fit(X_withoutFL_train,y_withoutFL_train)\n",
    "SVRregressor.fit(X_withoutFL_train,y_withoutFL_train)"
   ]
  },
  {
   "cell_type": "code",
   "execution_count": null,
   "metadata": {},
   "outputs": [],
   "source": [
    "pred=SVRregressor.predict(X_withoutFL_test)\n",
    "\n",
    "print(pred)"
   ]
  },
  {
   "cell_type": "code",
   "execution_count": null,
   "metadata": {},
   "outputs": [],
   "source": [
    "plt.scatter(pred,y_withoutFL_test,color='red')\n",
    "\n",
    "plt.title(\"Training the same dataset without FL (SVR)\")\n",
    "plt.xlabel('predicted')\n",
    "plt.ylabel('actual')\n",
    "plt.show()"
   ]
  },
  {
   "cell_type": "markdown",
   "metadata": {},
   "source": [
    "## without FL\n"
   ]
  },
  {
   "cell_type": "code",
   "execution_count": null,
   "metadata": {},
   "outputs": [],
   "source": [
    "plt.scatter(pred,y_withoutFL_test,color='red')\n",
    "\n",
    "plt.title(\"Training the same dataset without FL (regular LR)\")\n",
    "plt.xlabel('predicted')\n",
    "plt.ylabel('actual')\n",
    "plt.show()"
   ]
  },
  {
   "cell_type": "code",
   "execution_count": null,
   "metadata": {},
   "outputs": [],
   "source": [
    "pred.shape"
   ]
  },
  {
   "cell_type": "code",
   "execution_count": null,
   "metadata": {},
   "outputs": [],
   "source": [
    "from sklearn.metrics import r2_score\n",
    "r2 = r2_score(y_withoutFL_test, pred)\n",
    "print(r2)"
   ]
  },
  {
   "cell_type": "code",
   "execution_count": null,
   "metadata": {},
   "outputs": [],
   "source": []
  }
 ],
 "metadata": {
  "kernelspec": {
   "display_name": "myenv",
   "language": "python",
   "name": "python3"
  },
  "language_info": {
   "codemirror_mode": {
    "name": "ipython",
    "version": 3
   },
   "file_extension": ".py",
   "mimetype": "text/x-python",
   "name": "python",
   "nbconvert_exporter": "python",
   "pygments_lexer": "ipython3",
   "version": "3.10.12"
  }
 },
 "nbformat": 4,
 "nbformat_minor": 2
}
