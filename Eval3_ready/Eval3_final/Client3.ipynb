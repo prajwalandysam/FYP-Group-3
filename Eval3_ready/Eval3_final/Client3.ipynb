{
 "cells": [
  {
   "cell_type": "code",
   "execution_count": 1,
   "metadata": {},
   "outputs": [],
   "source": [
    "import requests\n",
    "import numpy as np\n",
    "import pandas as pd\n",
    "from sklearn.linear_model import LinearRegression\n",
    "from sklearn.metrics import mean_squared_error\n",
    "from datetime import datetime\n",
    "from Client import Client\n",
    "from Server import Server\n",
    "from Client_task import client_task"
   ]
  },
  {
   "cell_type": "code",
   "execution_count": 2,
   "metadata": {},
   "outputs": [],
   "source": [
    "server_url = \"http://127.0.0.1:8000\"  # Server endpoint"
   ]
  },
  {
   "cell_type": "code",
   "execution_count": 3,
   "metadata": {},
   "outputs": [
    {
     "name": "stdout",
     "output_type": "stream",
     "text": [
      "Local Data Shape: (4380, 16)\n",
      "Local Labels Shape: (4380,)\n",
      "21.1498134\n"
     ]
    }
   ],
   "source": [
    "node_file = \"./Datasets/node3.csv\"\n",
    "data = pd.read_csv(node_file)\n",
    "\n",
    "# Extract features (all columns except the 9th one)\n",
    "local_dataset = data.drop(columns=data.columns[9]).values  # Drop the 9th column for features\n",
    "\n",
    "# Extract labels (9th column)\n",
    "targetvar = data.iloc[:, 9].values  # Select the 9th column for labels\n",
    "\n",
    "client3=  Client(\n",
    "        client_id=\"client3\", \n",
    "        local_data=local_dataset,\n",
    "        local_labels=targetvar,\n",
    "        address=\"Nagpur ,India\" \n",
    "    ) \n",
    "\n",
    "\n",
    "# Print shapes to verify\n",
    "print(f\"Local Data Shape: {client3.local_data.shape}\")\n",
    "print(f\"Local Labels Shape: {client3.local_labels.shape}\")\n",
    "print(client3.latitude)"
   ]
  },
  {
   "cell_type": "code",
   "execution_count": 4,
   "metadata": {},
   "outputs": [
    {
     "name": "stdout",
     "output_type": "stream",
     "text": [
      "{'coef_': [-261452290941.3357, -58098411233.98301, 168373090375.37708, 168373090375.37332, -34980789331.99341, -34980789331.96956, 168373090375.37286, 168373090375.40707, 168373090375.36877, 0.24710988998413086, -0.051053643226623535, 0.6893808841705322, 0.17415204644203186, 0.026467084884643555, -0.001164440531283617, 0.07647562026977539], 'intercept_': 93079200565.9157}\n",
      "Client client3 fetched the global model.\n",
      "Client client3 successfully sent update to server.\n",
      "mse is 0.013074706228420128\n",
      "Client client3 received aggregated model.\n",
      "Client client3 completed its task with MSE: 0.013074706228420128\n"
     ]
    }
   ],
   "source": [
    "client_id, mse = client_task(client3, server_url)\n",
    "print(f\"Client {client_id} completed its task with MSE: {mse}\")\n"
   ]
  },
  {
   "cell_type": "code",
   "execution_count": null,
   "metadata": {},
   "outputs": [],
   "source": []
  }
 ],
 "metadata": {
  "kernelspec": {
   "display_name": "async",
   "language": "python",
   "name": "python3"
  },
  "language_info": {
   "codemirror_mode": {
    "name": "ipython",
    "version": 3
   },
   "file_extension": ".py",
   "mimetype": "text/x-python",
   "name": "python",
   "nbconvert_exporter": "python",
   "pygments_lexer": "ipython3",
   "version": "3.10.12"
  }
 },
 "nbformat": 4,
 "nbformat_minor": 2
}
