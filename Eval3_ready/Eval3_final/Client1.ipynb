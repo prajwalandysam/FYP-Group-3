{
 "cells": [
  {
   "cell_type": "code",
   "execution_count": 13,
   "metadata": {},
   "outputs": [],
   "source": [
    "import requests\n",
    "import numpy as np\n",
    "import pandas as pd\n",
    "from sklearn.linear_model import LinearRegression\n",
    "from sklearn.metrics import mean_squared_error\n",
    "from datetime import datetime\n",
    "from Client import Client\n",
    "from Server import Server\n",
    "from Client_task import client_task\n"
   ]
  },
  {
   "cell_type": "code",
   "execution_count": 14,
   "metadata": {},
   "outputs": [],
   "source": [
    "server_url = \"http://127.0.0.1:8000\"  # Server endpoint\n",
    "\n"
   ]
  },
  {
   "cell_type": "code",
   "execution_count": 15,
   "metadata": {},
   "outputs": [
    {
     "name": "stdout",
     "output_type": "stream",
     "text": [
      "Local Data Shape: (4380, 16)\n",
      "Local Labels Shape: (4380,)\n",
      "40.7127281\n"
     ]
    }
   ],
   "source": [
    "node_file = \"./Datasets/node1.csv\"\n",
    "data = pd.read_csv(node_file)\n",
    "\n",
    "# Extract features (all columns except the 9th one)\n",
    "local_dataset = data.drop(columns=data.columns[9]).values  # Drop the 9th column for features\n",
    "\n",
    "# Extract labels (9th column)\n",
    "targetvar = data.iloc[:, 9].values  # Select the 9th column for labels\n",
    "\n",
    "client1=  Client(\n",
    "        client_id=\"Client1\", \n",
    "        local_data=local_dataset,\n",
    "        local_labels=targetvar,\n",
    "        address=\"New York, USA\" \n",
    "    ) \n",
    "\n",
    "\n",
    "\n",
    "# Print shapes to verify\n",
    "print(f\"Local Data Shape: {client1.local_data.shape}\")\n",
    "print(f\"Local Labels Shape: {client1.local_labels.shape}\")\n",
    "print(client1.latitude)\n",
    "\n",
    "\n",
    "# \n",
    "# server_url = \"http://127.0.0.1:8000\"\n",
    "\n",
    "# response = requests.get(url)\n",
    "# if response.status_code == 200:\n",
    "#     print(\"Success:\", response.json())\n",
    "# else:\n",
    "#     print(\"Error:\", response.text)\n"
   ]
  },
  {
   "cell_type": "code",
   "execution_count": 16,
   "metadata": {},
   "outputs": [
    {
     "name": "stdout",
     "output_type": "stream",
     "text": [
      "{'coef_': [-54519182460.847046, 96681837459.78032, 49728209346.21484, 49728209346.21124, -101472810574.42804, -101472810574.41035, 49728209346.207855, 49728209346.23288, 49728209346.20652, 0.20068581899007162, -0.032973130544026695, 0.7464227676391602, 0.13673192262649536, 0.02882973353068034, -0.0024730712175369263, 0.05602216720581055], 'intercept_': 4790973114.601293}\n",
      "Client Client1 fetched the global model.\n",
      "Client Client1 successfully sent update to server.\n",
      "mse is 0.049138006058626366\n",
      "Client Client1 received aggregated model.\n",
      "Client Client1 completed its task with MSE: 0.049138006058626366\n"
     ]
    }
   ],
   "source": [
    "client_id, mse = client_task(client1, server_url)\n",
    "print(f\"Client {client_id} completed its task with MSE: {mse}\")"
   ]
  }
 ],
 "metadata": {
  "kernelspec": {
   "display_name": "windowsvenv",
   "language": "python",
   "name": "python3"
  },
  "language_info": {
   "codemirror_mode": {
    "name": "ipython",
    "version": 3
   },
   "file_extension": ".py",
   "mimetype": "text/x-python",
   "name": "python",
   "nbconvert_exporter": "python",
   "pygments_lexer": "ipython3",
   "version": "3.12.3"
  }
 },
 "nbformat": 4,
 "nbformat_minor": 2
}
